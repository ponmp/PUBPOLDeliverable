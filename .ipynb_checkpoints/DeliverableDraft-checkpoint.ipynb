{
 "cells": [
  {
   "cell_type": "markdown",
   "metadata": {},
   "source": [
    "## PUBPOL542 Deliverable Draft\n",
    "\n",
    "### Group Member: Matthew Pon\n",
    "### Organization: HedgehogsAnonymous\n",
    "* Github Repo: https://github.com/ponmp/PUBPOLDeliverableDraft \n",
    "* Organization Repo: https://github.com/HedgehogsAnonymous/PUBPOLDeliverable \n",
    "\n",
    "<a id='home'></a>\n",
    "_____\n"
   ]
  },
  {
   "cell_type": "markdown",
   "metadata": {},
   "source": [
    "## Table of contents\n",
    "[1: Data](#data)"
   ]
  },
  {
   "cell_type": "markdown",
   "metadata": {},
   "source": [
    "<a id='data'></a>\n",
    "## Data\n",
    "Data for the project was found here. It describes serious phychological distress in the United States among different strata. \n",
    "* Source: https://www.cdc.gov/nchs/hus/data-finder.htm?&subject=Mental%20health"
   ]
  },
  {
   "cell_type": "code",
   "execution_count": 1,
   "metadata": {},
   "outputs": [
    {
     "name": "stdout",
     "output_type": "stream",
     "text": [
      "Name: pandas\n",
      "Version: 1.5.3\n",
      "Summary: Powerful data structures for data analysis, time series, and statistics\n",
      "Home-page: https://pandas.pydata.org\n",
      "Author: The Pandas Development Team\n",
      "Author-email: pandas-dev@python.org\n",
      "License: BSD-3-Clause\n",
      "Location: c:\\users\\hedgehog\\.conda\\envs\\pubpol\\lib\\site-packages\n",
      "Requires: numpy, python-dateutil, pytz\n",
      "Required-by: \n"
     ]
    }
   ],
   "source": [
    "# First we make sure PANDAS is installed\n",
    "!pip show PANDAS\n",
    "#if not installed uncomment next line and run\n",
    "# !pip install pandas"
   ]
  },
  {
   "cell_type": "code",
   "execution_count": null,
   "metadata": {},
   "outputs": [],
   "source": [
    "## here is the .xlsx file pulled from the website and saved as a .csv.\n"
   ]
  }
 ],
 "metadata": {
  "kernelspec": {
   "display_name": "Python 3 (ipykernel)",
   "language": "python",
   "name": "python3"
  },
  "language_info": {
   "codemirror_mode": {
    "name": "ipython",
    "version": 3
   },
   "file_extension": ".py",
   "mimetype": "text/x-python",
   "name": "python",
   "nbconvert_exporter": "python",
   "pygments_lexer": "ipython3",
   "version": "3.8.16"
  },
  "vscode": {
   "interpreter": {
    "hash": "e8ba26a7f3d041ffe894e5af0748883ec6d9922ace694d57d241f342ffec543b"
   }
  }
 },
 "nbformat": 4,
 "nbformat_minor": 2
}
