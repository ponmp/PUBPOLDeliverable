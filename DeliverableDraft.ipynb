{
 "cells": [
  {
   "cell_type": "markdown",
   "metadata": {},
   "source": [
    "## PUBPOL542 Deliverable Draft\n",
    "\n",
    "### Group Member: Matthew Pon\n",
    "### Organization: HedgehogsAnonymous\n",
    "* Github Repo: https://github.com/ponmp/PUBPOLDeliverableDraft \n",
    "* Organization Repo: https://github.com/HedgehogsAnonymous/PUBPOLDeliverable \n",
    "\n",
    "<a id='home'></a>\n",
    "_____\n"
   ]
  },
  {
   "attachments": {},
   "cell_type": "markdown",
   "metadata": {},
   "source": [
    "## Table of contents\n",
    "[1: Data](#data)\n",
    "\n",
    "[2: Cleaning](#cleaning)\n",
    "     [2a: Suicide Rate](#cleaningSRwiki)\n",
    "\n",
    "[3: Shaping](#shaping)\n",
    "\n",
    "[4: Exporting](#exporting)\n",
    "_____"
   ]
  },
  {
   "cell_type": "markdown",
   "metadata": {},
   "source": [
    "<a id='data'></a>\n",
    "## Data\n",
    "Data table was found on Wikipedia's list of countries by suicide rates\n",
    "* Source: https://en.wikipedia.org/wiki/List_of_countries_by_suicide_rate"
   ]
  },
  {
   "cell_type": "code",
   "execution_count": 1,
   "metadata": {},
   "outputs": [
    {
     "data": {
      "text/html": [
       "\n",
       "        <iframe\n",
       "            width=\"700\"\n",
       "            height=\"300\"\n",
       "            src=\"https://en.wikipedia.org/wiki/List_of_countries_by_suicide_rate\"\n",
       "            frameborder=\"0\"\n",
       "            allowfullscreen\n",
       "            \n",
       "        ></iframe>\n",
       "        "
      ],
      "text/plain": [
       "<IPython.lib.display.IFrame at 0x2110ea49df0>"
      ]
     },
     "execution_count": 1,
     "metadata": {},
     "output_type": "execute_result"
    }
   ],
   "source": [
    "from IPython.display import IFrame  # call IPython.display function's IFrame \n",
    "IFrame(\"https://en.wikipedia.org/wiki/List_of_countries_by_suicide_rate\", width=700, height=300) # IFrame wikipedia page with a resolution of 700px by 300px."
   ]
  },
  {
   "cell_type": "code",
   "execution_count": 2,
   "metadata": {},
   "outputs": [
    {
     "name": "stdout",
     "output_type": "stream",
     "text": [
      "Name: pandas\n",
      "Version: 1.5.3\n",
      "Summary: Powerful data structures for data analysis, time series, and statistics\n",
      "Home-page: https://pandas.pydata.org\n",
      "Author: The Pandas Development Team\n",
      "Author-email: pandas-dev@python.org\n",
      "License: BSD-3-Clause\n",
      "Location: c:\\users\\hedgehog\\downloads\\pubpoldeliverabledraft\\venv\\lib\\site-packages\n",
      "Requires: numpy, python-dateutil, pytz\n",
      "Required-by: \n",
      "Name: html5lib\n",
      "Version: 1.1\n",
      "Summary: HTML parser based on the WHATWG HTML specification\n",
      "Home-page: https://github.com/html5lib/html5lib-python\n",
      "Author: \n",
      "Author-email: \n",
      "License: MIT License\n",
      "Location: c:\\users\\hedgehog\\downloads\\pubpoldeliverabledraft\\venv\\lib\\site-packages\n",
      "Requires: six, webencodings\n",
      "Required-by: \n"
     ]
    }
   ],
   "source": [
    "# Make sure PUBPOL environment is active\n",
    "# Run Jupyter Notebook Kernel\n",
    "\n",
    "# Make sure PANDAS is installed\n",
    "!pip show PANDAS\n",
    "# if not installed uncomment next line and run\n",
    "#!pip install pandas\n",
    "\n",
    "# Call PANDAS as PD\n",
    "import pandas as pd\n",
    "\n",
    "# Make sure HTML5lib is installed\n",
    "!pip show HTML5lib\n",
    "# if not installed uncomment next line and run\n",
    "#!pip install HTML5lib\n"
   ]
  },
  {
   "cell_type": "markdown",
   "metadata": {},
   "source": [
    "Once opened you can view the data"
   ]
  },
  {
   "cell_type": "code",
   "execution_count": 3,
   "metadata": {},
   "outputs": [],
   "source": [
    "MHwiki=pd.read_html(\"https://en.wikipedia.org/wiki/List_of_countries_by_suicide_rate\", header=0, flavor='bs4', attrs={'class': 'wikitable'})# find name of web element via inspect for \"wikitable\""
   ]
  },
  {
   "cell_type": "code",
   "execution_count": 4,
   "metadata": {},
   "outputs": [
    {
     "data": {
      "text/plain": [
       "[                   Country   All  Male  Female\n",
       " 0            Afghanistan *   6.0   6.2     5.7\n",
       " 1                  Albania   3.7   5.3     2.2\n",
       " 2                  Algeria   2.6   3.3     1.9\n",
       " 3                   Angola  12.6  21.7     4.7\n",
       " 4      Antigua and Barbuda   0.3   0.0     0.6\n",
       " ..                     ...   ...   ...     ...\n",
       " 185        South-East Asia  10.2  12.3     8.1\n",
       " 186                 Europe  10.5  17.1     4.3\n",
       " 187  Eastern Mediterranean   6.4   9.2     3.5\n",
       " 188        Western Pacific   7.2   9.7     4.8\n",
       " 189                 Global   9.0  12.6     5.4\n",
       " \n",
       " [190 rows x 4 columns],\n",
       "            Country  2000  2001  2002  2003  2004  2005  2006  2007  2008  ...  \\\n",
       " 0              NaN   NaN   NaN   NaN   NaN   NaN   NaN   NaN   NaN   NaN  ...   \n",
       " 1    Afghanistan *   7.6   7.9   8.0   7.8   7.9   7.8   7.8   7.7   7.4  ...   \n",
       " 2          Albania   7.6   6.5   6.6   6.6   6.7  10.2  10.1  10.5  10.5  ...   \n",
       " 3          Algeria   5.9   5.7   5.6   5.2   5.0   4.8   4.6   4.4   4.2  ...   \n",
       " 4           Angola  30.0  29.8  29.0  29.1  28.6  27.1  28.4  25.2  25.5  ...   \n",
       " ..             ...   ...   ...   ...   ...   ...   ...   ...   ...   ...  ...   \n",
       " 179      Venezuela  11.3  11.5  10.7   9.7   8.7   8.3   7.5   7.0   6.5  ...   \n",
       " 180        Vietnam   9.4   9.5   9.3   9.4   9.6   9.6   9.9  10.3  10.6  ...   \n",
       " 181          Yemen  10.5  10.4  10.2  10.1  10.2  10.0   9.8   9.8   9.8  ...   \n",
       " 182         Zambia  35.9  34.3  34.5  34.2  35.8  35.8  35.6  33.4  32.8  ...   \n",
       " 183       Zimbabwe  28.2  28.6  29.8  29.4  30.1  32.1  28.5  36.3  42.0  ...   \n",
       " \n",
       "      2010  2011  2012  2013  2014  2015  2016  2017  2018  2019  \n",
       " 0     NaN   NaN   NaN   NaN   NaN   NaN   NaN   NaN   NaN   NaN  \n",
       " 1     6.9   6.6   6.4   6.3   6.1   6.1   6.2   6.3   6.2   6.2  \n",
       " 2     9.5   7.3   6.6   6.5   6.2   5.7   5.7   5.7   5.6   5.3  \n",
       " 3     3.8   3.7   3.7   3.6   3.5   3.4   3.3   3.2   3.2   3.3  \n",
       " 4    23.9  22.8  24.1  24.3  22.6  22.7  21.8  21.0  21.3  21.7  \n",
       " ..    ...   ...   ...   ...   ...   ...   ...   ...   ...   ...  \n",
       " 179   6.3   6.9   6.0   4.5   4.0   4.1   3.9   3.9   3.9   3.7  \n",
       " 180  10.7  10.9  11.1  11.1  11.3  11.3  11.2  11.1  10.8  10.6  \n",
       " 181   9.3   9.1   9.1   9.0   9.0   8.7   9.0   8.7   9.0   9.0  \n",
       " 182  33.3  33.4  31.1  30.0  30.2  30.0  29.1  29.1  28.1  25.7  \n",
       " 183  51.6  52.4  50.7  46.4  45.3  47.4  44.5  41.3  38.6  37.8  \n",
       " \n",
       " [184 rows x 21 columns],\n",
       "            Country  2000  2001  2002  2003  2004  2005  2006  2007  2008  ...  \\\n",
       " 0              NaN   NaN   NaN   NaN   NaN   NaN   NaN   NaN   NaN   NaN  ...   \n",
       " 1    Afghanistan *   7.8   7.9   7.7   7.6   7.6   7.4   7.3   7.1   6.9  ...   \n",
       " 2          Albania   2.9   3.0   3.0   3.2   3.1   5.2   5.7   5.7   5.8  ...   \n",
       " 3          Algeria   3.5   3.4   3.3   3.1   2.9   2.8   2.7   2.5   2.4  ...   \n",
       " 4           Angola   6.2   6.1   6.5   6.9   6.8   6.5   6.8   5.9   6.1  ...   \n",
       " ..             ...   ...   ...   ...   ...   ...   ...   ...   ...   ...  ...   \n",
       " 179      Venezuela   1.7   1.8   1.9   1.8   1.6   1.5   1.3   1.3   1.1  ...   \n",
       " 180        Vietnam   5.2   5.0   4.9   4.8   4.7   4.6   4.5   4.5   4.4  ...   \n",
       " 181          Yemen   6.5   6.5   6.2   6.1   6.2   6.0   5.9   5.8   5.9  ...   \n",
       " 182         Zambia  14.5  13.4  12.6  11.4  11.9  11.4  11.0   9.2   8.2  ...   \n",
       " 183       Zimbabwe  14.2  13.0  13.5  13.7  15.7  15.2  18.2  21.8  25.5  ...   \n",
       " \n",
       "      2010  2011  2012  2013  2014  2015  2016  2017  2018  2019  \n",
       " 0     NaN   NaN   NaN   NaN   NaN   NaN   NaN   NaN   NaN   NaN  \n",
       " 1     6.4   6.2   6.1   6.0   5.9   5.8   5.8   5.5   5.6   5.7  \n",
       " 2     5.9   8.2   3.2   3.2   2.9   2.8   2.7   2.5   2.4   2.2  \n",
       " 3     2.2   2.1   2.1   2.1   2.0   2.0   1.9   1.9   1.9   1.9  \n",
       " 4     5.6   5.2   5.4   5.2   4.8   5.1   5.1   4.9   4.6   4.7  \n",
       " ..    ...   ...   ...   ...   ...   ...   ...   ...   ...   ...  \n",
       " 179   1.1   0.9   1.0   0.8   0.7   0.8   0.8   0.8   0.7   0.7  \n",
       " 180   4.2   4.2   4.2   4.2   4.3   4.2   4.2   4.2   4.2   4.2  \n",
       " 181   5.5   5.4   5.5   5.4   5.2   5.0   5.1   5.1   5.3   5.3  \n",
       " 182   9.2   9.2   8.7   8.5   7.9   7.1   6.7   6.6   6.0   5.3  \n",
       " 183  23.9  21.8  20.9  21.3  21.1  19.2  17.7  15.0  13.5  13.5  \n",
       " \n",
       " [184 rows x 21 columns],\n",
       "            Country  2000  2001  2002  2003  2004  2005  2006  2007  2008  ...  \\\n",
       " 0              NaN   NaN   NaN   NaN   NaN   NaN   NaN   NaN   NaN   NaN  ...   \n",
       " 1    Afghanistan *   7.7   7.9   7.9   7.7   7.8   7.6   7.6   7.4   7.2  ...   \n",
       " 2          Albania   5.2   4.7   4.8   4.9   4.9   7.7   7.8   8.1   8.1  ...   \n",
       " 3          Algeria   4.7   4.6   4.4   4.1   4.0   3.8   3.7   3.5   3.3  ...   \n",
       " 4           Angola  17.6  17.5  17.2  17.5  17.2  16.3  17.1  15.0  15.3  ...   \n",
       " ..             ...   ...   ...   ...   ...   ...   ...   ...   ...   ...  ...   \n",
       " 179      Venezuela   6.4   6.5   6.2   5.6   5.1   4.8   4.3   4.0   3.7  ...   \n",
       " 180        Vietnam   7.2   7.1   7.0   7.0   7.0   6.9   7.0   7.2   7.4  ...   \n",
       " 181          Yemen   8.5   8.4   8.2   8.1   8.1   8.0   7.8   7.7   7.8  ...   \n",
       " 182         Zambia  24.0  22.7  22.3  21.5  22.5  22.1  21.8  19.8  19.0  ...   \n",
       " 183       Zimbabwe  20.0  19.5  20.3  20.2  21.5  22.0  22.0  27.2  31.7  ...   \n",
       " \n",
       "      2010  2011  2012  2013  2014  2015  2016  2017  2018  2019  \n",
       " 0     NaN   NaN   NaN   NaN   NaN   NaN   NaN   NaN   NaN   NaN  \n",
       " 1     6.7   6.4   6.2   6.2   6.0   6.0   6.0   6.0   5.9   6.0  \n",
       " 2     7.6   7.6   4.8   4.8   4.5   4.2   4.2   4.1   3.9   3.7  \n",
       " 3     3.0   2.9   2.9   2.9   2.8   2.7   2.6   2.5   2.6   2.6  \n",
       " 4    14.2  13.5  14.2  14.2  13.1  13.3  12.9  12.4  12.4  12.6  \n",
       " ..    ...   ...   ...   ...   ...   ...   ...   ...   ...   ...  \n",
       " 179   3.6   3.8   3.4   2.6   2.3   2.4   2.3   2.2   2.2   2.1  \n",
       " 180   7.3   7.4   7.5   7.5   7.6   7.6   7.6   7.5   7.4   7.2  \n",
       " 181   7.4   7.2   7.2   7.1   7.0   6.8   7.0   6.9   7.1   7.1  \n",
       " 182  19.7  19.8  18.5  17.9  17.7  17.3  16.7  16.7  15.9  14.4  \n",
       " 183  35.0  34.3  33.1  31.4  30.8  30.7  28.7  25.9  23.9  23.6  \n",
       " \n",
       " [184 rows x 21 columns],\n",
       "           Income group (% of global pop)  Suicides, 2012 (in thousands)  \\\n",
       " 0          High-income countries (18.3%)                            197   \n",
       " 1  Upper-middle-income countries (34.3%)                            192   \n",
       " 2  Lower-middle-income countries (35.4%)                            333   \n",
       " 3           Low-income countries (12.0%)                             82   \n",
       " 4                        Global (100.0%)                            804   \n",
       " \n",
       "   Global %  Rate (2012) Male:Female (2012)  \n",
       " 0    24.5%         12.7            3.5 : 1  \n",
       " 1    23.8%          7.5            1.3 : 1  \n",
       " 2    41.4%         14.1            1.7 : 1  \n",
       " 3    10.2%         13.4            1.7 : 1  \n",
       " 4   100.0%         11.4            1.9 : 1  ,\n",
       "                         Country   Male  Female  Overall Sources & Year\n",
       " 0    Greenland * (Danish Realm)  75.08   25.18    53.34       2019[21]\n",
       " 1                   Lithuania *   65.1   12.40    24.40   2018[22][23]\n",
       " 2                 South Korea *   35.9   16.20    26.00       2021[24]\n",
       " 3                      Guyana *  41.25   10.20    25.52   2017[25][26]\n",
       " 4                  Kazakhstan *  40.68    8.01    23.81       2017[26]\n",
       " ..                          ...    ...     ...      ...            ...\n",
       " 107                     Grenada    0.0    0.00     0.00           2008\n",
       " 108       Saint Kitts and Nevis    0.0    0.00     0.00           1995\n",
       " 109         Antigua and Barbuda    0.0    0.00     0.00           1995\n",
       " 110                       Haiti    0.0    0.00     0.00           2003\n",
       " 111                     Nepal *    0.0    0.00     0.00           2003\n",
       " \n",
       " [112 rows x 5 columns]]"
      ]
     },
     "execution_count": 4,
     "metadata": {},
     "output_type": "execute_result"
    }
   ],
   "source": [
    "# DFwiki returns all wikitables on the page but we are only concerned with historic suicide rates among both males and females\n",
    "MHwiki"
   ]
  },
  {
   "cell_type": "code",
   "execution_count": 5,
   "metadata": {},
   "outputs": [
    {
     "data": {
      "text/html": [
       "\n",
       "        <iframe\n",
       "            width=\"700\"\n",
       "            height=\"300\"\n",
       "            src=\"https://en.wikipedia.org/wiki/List_of_countries_by_alcohol_consumption_per_capita\"\n",
       "            frameborder=\"0\"\n",
       "            allowfullscreen\n",
       "            \n",
       "        ></iframe>\n",
       "        "
      ],
      "text/plain": [
       "<IPython.lib.display.IFrame at 0x2111edc3df0>"
      ]
     },
     "execution_count": 5,
     "metadata": {},
     "output_type": "execute_result"
    }
   ],
   "source": [
    "from IPython.display import IFrame  # call IPython.display function's IFrame \n",
    "IFrame(\"https://en.wikipedia.org/wiki/List_of_countries_by_alcohol_consumption_per_capita\", width=700, height=300) # IFrame wikipedia page with a resolution of 700px by 300px."
   ]
  },
  {
   "cell_type": "markdown",
   "metadata": {},
   "source": [
    "Adding more data for analysis"
   ]
  },
  {
   "cell_type": "code",
   "execution_count": 6,
   "metadata": {},
   "outputs": [],
   "source": [
    "ARwiki=pd.read_html(\"https://en.wikipedia.org/wiki/List_of_countries_by_alcohol_consumption_per_capita\", header=0, flavor='bs4', attrs={'class': 'wikitable'})# find name of web element via inspect for \"wikitable\""
   ]
  },
  {
   "cell_type": "markdown",
   "metadata": {},
   "source": [
    "Again adding Life Satisfaction index data for analysis"
   ]
  },
  {
   "cell_type": "code",
   "execution_count": 7,
   "metadata": {},
   "outputs": [],
   "source": [
    "SIwiki=pd.read_html(\"https://en.wikipedia.org/wiki/Satisfaction_with_Life_Index\", header=0, flavor='bs4', attrs={'class': 'wikitable'})# find name of web element via inspect for \"wikitable\""
   ]
  },
  {
   "cell_type": "markdown",
   "metadata": {},
   "source": [
    "Adding Wealth Inequality data."
   ]
  },
  {
   "cell_type": "code",
   "execution_count": 8,
   "metadata": {},
   "outputs": [],
   "source": [
    "WIwiki=pd.read_html(\"https://en.wikipedia.org/wiki/List_of_sovereign_states_by_wealth_inequality\", header=0, flavor='bs4', attrs={'class': 'wikitable'})# find name of web element via inspect for \"wikitable\""
   ]
  },
  {
   "cell_type": "markdown",
   "metadata": {},
   "source": [
    "Adding Social Progress"
   ]
  },
  {
   "cell_type": "code",
   "execution_count": 9,
   "metadata": {},
   "outputs": [],
   "source": [
    "SPwiki=pd.read_html(\"https://en.wikipedia.org/wiki/Social_Progress_Index\", header=0, flavor='bs4', attrs={'class': 'wikitable'})# find name of web element via inspect for \"wikitable\""
   ]
  },
  {
   "cell_type": "markdown",
   "metadata": {},
   "source": [
    "Importing .csv from https://www.cia.gov/the-world-factbook/field/tobacco-use/country-comparison"
   ]
  },
  {
   "cell_type": "code",
   "execution_count": 10,
   "metadata": {},
   "outputs": [],
   "source": [
    "TUtable=pd.read_csv(\"./CIATobaccoUse.csv\")\n",
    "# Check if imported correctly\n",
    "# TUtable"
   ]
  },
  {
   "cell_type": "markdown",
   "metadata": {},
   "source": [
    "Adding data for Cocaine Usages"
   ]
  },
  {
   "cell_type": "code",
   "execution_count": 11,
   "metadata": {},
   "outputs": [],
   "source": [
    "CUwiki=pd.read_html(\"https://en.wikipedia.org/wiki/List_of_countries_by_prevalence_of_cocaine_use\", header=0, flavor='bs4', attrs={'class': 'wikitable'})# find name of web element via inspect for \"wikitable\""
   ]
  },
  {
   "cell_type": "markdown",
   "metadata": {},
   "source": [
    "Adding Urbanization Data"
   ]
  },
  {
   "cell_type": "code",
   "execution_count": 12,
   "metadata": {},
   "outputs": [],
   "source": [
    "UDwiki=pd.read_html(\"https://en.wikipedia.org/wiki/Urbanization_by_sovereign_state\", header=0, flavor='bs4', attrs={'class': 'wikitable'})# find name of web element via inspect for \"wikitable\""
   ]
  },
  {
   "cell_type": "markdown",
   "metadata": {},
   "source": [
    "Adding Population Density Data"
   ]
  },
  {
   "cell_type": "code",
   "execution_count": 13,
   "metadata": {},
   "outputs": [],
   "source": [
    "PDwiki=pd.read_html(\"https://en.wikipedia.org/wiki/List_of_countries_by_real_population_density_based_on_food_growing_capacity\", header=0, flavor='bs4', attrs={'class': 'wikitable'})# find name of web element via inspect for \"wikitable\""
   ]
  },
  {
   "cell_type": "markdown",
   "metadata": {},
   "source": [
    "Adding Life Expectancy Data"
   ]
  },
  {
   "cell_type": "code",
   "execution_count": 14,
   "metadata": {},
   "outputs": [],
   "source": [
    "LEwiki=pd.read_html(\"https://en.wikipedia.org/wiki/List_of_countries_by_past_life_expectancy\", header=0, flavor='bs4', attrs={'class': 'wikitable'})# find name of web element via inspect for \"wikitable\""
   ]
  },
  {
   "cell_type": "markdown",
   "metadata": {},
   "source": [
    "_____\n",
    "\n",
    "\n",
    "<a id='cleaning'></a>\n",
    "## Cleaning"
   ]
  },
  {
   "attachments": {},
   "cell_type": "markdown",
   "metadata": {},
   "source": [
    "<a id='cleaningSRwiki'></a>\n",
    "### Cleaning Suicide Rate Wikitable"
   ]
  },
  {
   "cell_type": "code",
   "execution_count": null,
   "metadata": {},
   "outputs": [],
   "source": [
    "# Creat a copy and show only the 4th table on the page, all suicide rates\n",
    "SRwiki=MHwiki[3].copy()\n",
    "SRwiki"
   ]
  },
  {
   "cell_type": "markdown",
   "metadata": {},
   "source": [
    "Columns look fine. Table looks ok except for second row."
   ]
  },
  {
   "cell_type": "code",
   "execution_count": null,
   "metadata": {},
   "outputs": [],
   "source": [
    "# examine columns for errors\n",
    "SRwiki.columns.to_list()"
   ]
  },
  {
   "cell_type": "code",
   "execution_count": null,
   "metadata": {},
   "outputs": [],
   "source": [
    "# Dropping first row of NaN and saving\n",
    "SRwiki.drop(0, inplace=True)"
   ]
  },
  {
   "cell_type": "code",
   "execution_count": null,
   "metadata": {},
   "outputs": [],
   "source": [
    "# Check if first row was dropped\n",
    "SRwiki.reset_index()\n",
    "SRwiki"
   ]
  },
  {
   "cell_type": "code",
   "execution_count": null,
   "metadata": {},
   "outputs": [],
   "source": [
    "# replacing all asterisks and checking\n",
    "SRwiki.replace(\"[*]\", \"\", regex=True)\n",
    "SRwiki.replace(\"\\u202f\", \"\", regex=True)\n",
    "SRwiki"
   ]
  },
  {
   "cell_type": "code",
   "execution_count": null,
   "metadata": {},
   "outputs": [],
   "source": [
    "# replacing all asterisks and saving\n",
    "SRwiki.replace(\"[*]\", \"\", regex=True, inplace=True)\n",
    "SRwiki.replace(\"\\u202f\", \"\", regex=True, inplace=True)"
   ]
  },
  {
   "cell_type": "code",
   "execution_count": null,
   "metadata": {},
   "outputs": [],
   "source": [
    "# Ensuring no leading or trailing spaces\n",
    "SRwiki.Country.str.strip()"
   ]
  },
  {
   "cell_type": "code",
   "execution_count": null,
   "metadata": {},
   "outputs": [],
   "source": [
    "# Checking Country Names\n",
    "SRwiki.Country.to_list()"
   ]
  },
  {
   "cell_type": "code",
   "execution_count": null,
   "metadata": {},
   "outputs": [],
   "source": [
    "# replace special characters with standard\n",
    "SRwiki.replace(\"São Tomé and Príncipe\", \"Sao Tome and Principe\", inplace=True)"
   ]
  },
  {
   "cell_type": "code",
   "execution_count": null,
   "metadata": {},
   "outputs": [],
   "source": [
    "# Checking if correct data types\n",
    "SRwiki.info()"
   ]
  },
  {
   "cell_type": "markdown",
   "metadata": {},
   "source": [
    "Column names, rows, and table data types are correctly showing.\n",
    "* Countries have been cleaned of special characters and spaces.\n",
    "* Columns correctly show country and years.\n",
    "* Data types show country names as objects and Suicide rates as decimals."
   ]
  },
  {
   "cell_type": "markdown",
   "metadata": {},
   "source": [
    "Repeat cleaning and checking for Male Suicide Rate table."
   ]
  },
  {
   "cell_type": "code",
   "execution_count": null,
   "metadata": {},
   "outputs": [],
   "source": [
    "#MSRwiki=MHwiki[1].copy() #saving Male Suicide rate table as MSRwiki\n",
    "#MSRwiki"
   ]
  },
  {
   "cell_type": "code",
   "execution_count": null,
   "metadata": {},
   "outputs": [],
   "source": [
    "#MSRwiki.columns.to_list() # check columns"
   ]
  },
  {
   "cell_type": "code",
   "execution_count": null,
   "metadata": {},
   "outputs": [],
   "source": [
    "# Dropping first row of NaN and saving\n",
    "#MSRwiki.drop(0, inplace=True)"
   ]
  },
  {
   "cell_type": "code",
   "execution_count": null,
   "metadata": {},
   "outputs": [],
   "source": [
    "#MSRwiki.reset_index() #reset index and check\n",
    "#MSRwiki"
   ]
  },
  {
   "cell_type": "code",
   "execution_count": null,
   "metadata": {},
   "outputs": [],
   "source": [
    "# replacing all asterisks and saving\n",
    "#MSRwiki.replace(\"[*]\", \"\", regex=True, inplace=True)\n",
    "#MSRwiki.replace(\"\\u202f\", \"\", regex=True, inplace=True)"
   ]
  },
  {
   "cell_type": "code",
   "execution_count": null,
   "metadata": {},
   "outputs": [],
   "source": [
    "#MSRwiki.Country.str.strip() #remove leading and trailing spaces"
   ]
  },
  {
   "cell_type": "code",
   "execution_count": null,
   "metadata": {},
   "outputs": [],
   "source": [
    "# Checking Country Names\n",
    "#MSRwiki.Country.to_list()"
   ]
  },
  {
   "cell_type": "code",
   "execution_count": null,
   "metadata": {},
   "outputs": [],
   "source": [
    "# replace special characters with standard\n",
    "#MSRwiki.replace(\"São Tomé and Príncipe\", \"Sao Tome and Principe\", inplace=True)"
   ]
  },
  {
   "cell_type": "code",
   "execution_count": null,
   "metadata": {},
   "outputs": [],
   "source": [
    "# Checking if correct data types\n",
    "#MSRwiki.info()"
   ]
  },
  {
   "cell_type": "markdown",
   "metadata": {},
   "source": [
    "Repeat for Female Suicide Rates"
   ]
  },
  {
   "cell_type": "code",
   "execution_count": null,
   "metadata": {},
   "outputs": [],
   "source": [
    "# Create a copy of Female Suicide Rates as FSRwiki\n",
    "#FSRwiki=MHwiki[2].copy()\n",
    "#FSRwiki"
   ]
  },
  {
   "cell_type": "code",
   "execution_count": null,
   "metadata": {},
   "outputs": [],
   "source": [
    "#FSRwiki.columns.to_list() # check columns"
   ]
  },
  {
   "cell_type": "code",
   "execution_count": null,
   "metadata": {},
   "outputs": [],
   "source": [
    "# Dropping first row of NaN and checking\n",
    "#FSRwiki.drop(0)"
   ]
  },
  {
   "cell_type": "code",
   "execution_count": null,
   "metadata": {},
   "outputs": [],
   "source": [
    "# Saving Changes\n",
    "#FSRwiki.drop(0, inplace=True)"
   ]
  },
  {
   "cell_type": "code",
   "execution_count": null,
   "metadata": {},
   "outputs": [],
   "source": [
    "# FSRwiki.reset_index() #reset index and check\n",
    "#FSRwiki"
   ]
  },
  {
   "cell_type": "code",
   "execution_count": null,
   "metadata": {},
   "outputs": [],
   "source": [
    "# replacing all asterisks and unicode spaces, with check\n",
    "#FSRwiki.replace(\"[*]\", \"\", regex=True)\n",
    "#FSRwiki.replace(\"\\u202f\", \"\", regex=True)\n",
    "#FSRwiki"
   ]
  },
  {
   "cell_type": "code",
   "execution_count": null,
   "metadata": {},
   "outputs": [],
   "source": [
    "#Saving changes\n",
    "#FSRwiki.replace(\"[*]\", \"\", regex=True, inplace=True)\n",
    "#FSRwiki.replace(\"\\u202f\", \"\", regex=True, inplace=True)"
   ]
  },
  {
   "cell_type": "code",
   "execution_count": null,
   "metadata": {},
   "outputs": [],
   "source": [
    "#FSRwiki.Country.str.strip() #remove leading and trailing spaces"
   ]
  },
  {
   "cell_type": "code",
   "execution_count": null,
   "metadata": {},
   "outputs": [],
   "source": [
    "# Checking Country Names\n",
    "#FSRwiki.Country.to_list()"
   ]
  },
  {
   "cell_type": "code",
   "execution_count": null,
   "metadata": {},
   "outputs": [],
   "source": [
    "# replace special characters with standard\n",
    "#FSRwiki.replace(\"São Tomé and Príncipe\", \"Sao Tome and Principe\", inplace=True)"
   ]
  },
  {
   "cell_type": "code",
   "execution_count": null,
   "metadata": {},
   "outputs": [],
   "source": [
    "# Checking if correct data types\n",
    "#FSRwiki.info()"
   ]
  },
  {
   "cell_type": "code",
   "execution_count": null,
   "metadata": {},
   "outputs": [],
   "source": [
    "# Add Female suffix to Country Name\n",
    "#FSRwiki=FSRwiki.Country.add_suffix('_Female') # depricated method make a column instead\n",
    "\n",
    "#Make new column at position 2 to indicate Male, Female, or Both\n",
    "#FSRwiki.insert(1,'Sex','Female')\n",
    "#MSRwiki.insert(1,'Sex','Male')\n",
    "#SRwiki.insert(1,'Sex','All')"
   ]
  },
  {
   "cell_type": "code",
   "execution_count": null,
   "metadata": {},
   "outputs": [],
   "source": [
    "#checking new column\n",
    "#FSRwiki"
   ]
  },
  {
   "cell_type": "code",
   "execution_count": null,
   "metadata": {},
   "outputs": [],
   "source": [
    "# Checking new column\n",
    "#MSRwiki"
   ]
  },
  {
   "cell_type": "code",
   "execution_count": null,
   "metadata": {},
   "outputs": [],
   "source": [
    "# Checking new column\n",
    "#SRwiki"
   ]
  },
  {
   "cell_type": "markdown",
   "metadata": {},
   "source": [
    "Adding Alcohol Data for Analysis"
   ]
  },
  {
   "cell_type": "code",
   "execution_count": null,
   "metadata": {},
   "outputs": [],
   "source": [
    "# Creat a copy and show only the 4th table on the page, all suicide rates\n",
    "Awiki=ARwiki[1].copy()\n",
    "Awiki"
   ]
  },
  {
   "cell_type": "code",
   "execution_count": null,
   "metadata": {},
   "outputs": [],
   "source": [
    "# examine columns for errors\n",
    "Awiki.columns.to_list()"
   ]
  },
  {
   "cell_type": "code",
   "execution_count": null,
   "metadata": {},
   "outputs": [],
   "source": [
    "# Take only relevant data of total alcohol consumend by country\n",
    "Awiki.drop(Awiki.columns[[2,3,4,5,6,7,8,9]], axis=1)"
   ]
  },
  {
   "cell_type": "code",
   "execution_count": null,
   "metadata": {},
   "outputs": [],
   "source": [
    "# Take only relevant data of total alcohol consumend by country and save\n",
    "Awiki.drop(Awiki.columns[[2,3,4,5,6,7,8,9]], axis=1, inplace=True)\n",
    "Awiki"
   ]
  },
  {
   "cell_type": "code",
   "execution_count": null,
   "metadata": {},
   "outputs": [],
   "source": [
    "#sort by Country name\n",
    "Awiki.sort_values(\"Country\")"
   ]
  },
  {
   "cell_type": "code",
   "execution_count": null,
   "metadata": {},
   "outputs": [],
   "source": [
    "#sort by Country name and save\n",
    "Awiki.sort_values(\"Country\", inplace=True)\n",
    "Awiki"
   ]
  },
  {
   "cell_type": "code",
   "execution_count": null,
   "metadata": {},
   "outputs": [],
   "source": [
    "#remove index\n",
    "Awiki.set_index(['Country', 'Total'])"
   ]
  },
  {
   "cell_type": "code",
   "execution_count": null,
   "metadata": {},
   "outputs": [],
   "source": [
    "#saving changes\n",
    "Awiki.set_index(['Country', 'Total'], inplace=True)\n",
    "Awiki"
   ]
  },
  {
   "cell_type": "code",
   "execution_count": null,
   "metadata": {},
   "outputs": [],
   "source": [
    "# Reset index\n",
    "Awiki.reset_index(inplace=True)\n",
    "Awiki"
   ]
  },
  {
   "cell_type": "markdown",
   "metadata": {},
   "source": [
    "_____\n",
    "\n",
    "\n",
    "<a id='shaping'></a>\n",
    "\n",
    "## Shaping\n",
    "\n",
    "Now we put all the data into the same table."
   ]
  },
  {
   "cell_type": "code",
   "execution_count": null,
   "metadata": {},
   "outputs": [],
   "source": [
    "# All data has been cleaned, formated, and checked. We merge tables\n",
    "# Check all column names are the same among tables\n",
    "set(SRwiki.columns)&set(MSRwiki)&set(FSRwiki)\n"
   ]
  },
  {
   "cell_type": "code",
   "execution_count": null,
   "metadata": {},
   "outputs": [],
   "source": [
    "ASRwiki=pd.concat([SRwiki,MSRwiki,FSRwiki]) #concatenate all tables\n",
    "ASRwiki #show concatenated table"
   ]
  },
  {
   "cell_type": "code",
   "execution_count": null,
   "metadata": {},
   "outputs": [],
   "source": [
    "# Reset index for concatenated table\n",
    "ASRwiki.reset_index() #reset index and check"
   ]
  },
  {
   "cell_type": "code",
   "execution_count": null,
   "metadata": {},
   "outputs": [],
   "source": [
    "# Save Changes\n",
    "ASRwiki=ASRwiki.reset_index() #reset index and check\n",
    "ASRwiki"
   ]
  },
  {
   "cell_type": "markdown",
   "metadata": {},
   "source": [
    "Merging with data on alcohol"
   ]
  },
  {
   "cell_type": "code",
   "execution_count": null,
   "metadata": {},
   "outputs": [],
   "source": [
    "SRwiki.Country.to_list()"
   ]
  },
  {
   "cell_type": "code",
   "execution_count": null,
   "metadata": {},
   "outputs": [],
   "source": [
    "#Checking Country lists\n",
    "Awiki.Country.to_list()"
   ]
  },
  {
   "cell_type": "markdown",
   "metadata": {},
   "source": [
    "_____\n",
    "\n",
    "\n",
    "<a id='exporting'></a>\n",
    "\n",
    "## Exporting\n",
    "Now that the data has been imported and cleaned, we export the data as .pkl so we can use it in Rstudio.\n"
   ]
  },
  {
   "cell_type": "code",
   "execution_count": null,
   "metadata": {},
   "outputs": [],
   "source": [
    "# Make sure rpy2 is installed\n",
    "!pip show rpy2\n",
    "# !pip install rpy2"
   ]
  },
  {
   "cell_type": "code",
   "execution_count": null,
   "metadata": {},
   "outputs": [],
   "source": [
    "# export SRwiki as SRwiki.pkl\n",
    "ASRwiki.to_pickle(\"ASRwiki.pkl\")\n",
    "print(\"Exported to pickle.\")"
   ]
  },
  {
   "cell_type": "code",
   "execution_count": null,
   "metadata": {},
   "outputs": [],
   "source": [
    "# export to ASRwiki as ASRwiki.csv\n",
    "ASRwiki.to_csv(\"ASRwiki.csv\")\n",
    "print(\"Exported to .csv\")"
   ]
  },
  {
   "cell_type": "code",
   "execution_count": null,
   "metadata": {},
   "outputs": [],
   "source": [
    "from rpy2.robjects import pandas2ri\n",
    "pandas2ri.activate()\n",
    "\n",
    "from rpy2.robjects.packages import importr\n",
    "\n",
    "base = importr('base')\n",
    "base.saveRDS(ASRwiki,file=\"ASRwiki.RDS\")\n",
    "print(\"Exported to .rds\")"
   ]
  }
 ],
 "metadata": {
  "kernelspec": {
   "display_name": "Python 3 (ipykernel)",
   "language": "python",
   "name": "python3"
  },
  "language_info": {
   "codemirror_mode": {
    "name": "ipython",
    "version": 3
   },
   "file_extension": ".py",
   "mimetype": "text/x-python",
   "name": "python",
   "nbconvert_exporter": "python",
   "pygments_lexer": "ipython3",
   "version": "3.9.13"
  },
  "vscode": {
   "interpreter": {
    "hash": "70d7df03c88bbbc1baccdb12cc8547b820746319ac6b0451b1fffee1b0ee2fd8"
   }
  }
 },
 "nbformat": 4,
 "nbformat_minor": 2
}
