{
 "cells": [
  {
   "cell_type": "markdown",
   "metadata": {},
   "source": [
    "## PUBPOL542 Deliverable Draft\n",
    "\n",
    "### Group Member: Matthew Pon\n",
    "### Organization: HedgehogsAnonymous\n",
    "* Github Repo: https://github.com/ponmp/PUBPOLDeliverableDraft \n",
    "* Organization Repo: https://github.com/HedgehogsAnonymous/PUBPOLDeliverable \n",
    "\n",
    "<a id='home'></a>\n",
    "_____\n"
   ]
  },
  {
   "cell_type": "markdown",
   "metadata": {},
   "source": [
    "## Table of contents\n",
    "[1: Data](#data)\n",
    "\n",
    "[2: Cleaning](#cleaning)\n",
    "\n",
    "[3: Shaping](#shaping)\n",
    "\n",
    "[4: Exporting](#exporting)\n",
    "_____"
   ]
  },
  {
   "cell_type": "markdown",
   "metadata": {},
   "source": [
    "<a id='data'></a>\n",
    "## Data\n",
    "Data table was found on Wikipedia's list of countries by suicide rates\n",
    "* Source: https://en.wikipedia.org/wiki/List_of_countries_by_suicide_rate"
   ]
  },
  {
   "cell_type": "code",
   "execution_count": null,
   "metadata": {},
   "outputs": [],
   "source": [
    "from IPython.display import IFrame  # call IPython.display function's IFrame \n",
    "IFrame(\"https://en.wikipedia.org/wiki/List_of_countries_by_suicide_rate\", width=700, height=300) # IFrame wikipedia page with a resolution of 700px by 300px."
   ]
  },
  {
   "cell_type": "code",
   "execution_count": null,
   "metadata": {},
   "outputs": [],
   "source": [
    "# Make sure PUBPOL environment is active\n",
    "# Run Jupyter Notebook Kernel\n",
    "\n",
    "# Make sure PANDAS is installed\n",
    "!pip show PANDAS\n",
    "# if not installed uncomment next line and run\n",
    "#!pip install pandas\n",
    "\n",
    "# Call PANDAS as PD\n",
    "import pandas as pd\n",
    "\n",
    "# Make sure HTML5lib is installed\n",
    "!pip show HTML5lib\n",
    "# if not installed uncomment next line and run\n",
    "#!pip install HTML5lib\n"
   ]
  },
  {
   "cell_type": "markdown",
   "metadata": {},
   "source": [
    "Once opened you can view the data"
   ]
  },
  {
   "cell_type": "code",
   "execution_count": null,
   "metadata": {},
   "outputs": [],
   "source": [
    "MHwiki=pd.read_html(\"https://en.wikipedia.org/wiki/List_of_countries_by_suicide_rate\", header=0, flavor='bs4', attrs={'class': 'wikitable'})# find name of web element via inspect for \"wikitable\""
   ]
  },
  {
   "cell_type": "code",
   "execution_count": null,
   "metadata": {},
   "outputs": [],
   "source": [
    "# DFwiki returns all wikitables on the page but we are only concerned with historic suicide rates among both males and females\n",
    "MHwiki"
   ]
  },
  {
   "cell_type": "code",
   "execution_count": null,
   "metadata": {},
   "outputs": [],
   "source": [
    "from IPython.display import IFrame  # call IPython.display function's IFrame \n",
    "IFrame(\"https://en.wikipedia.org/wiki/List_of_countries_by_alcohol_consumption_per_capita\", width=700, height=300) # IFrame wikipedia page with a resolution of 700px by 300px."
   ]
  },
  {
   "cell_type": "markdown",
   "metadata": {},
   "source": [
    "Adding more data for analysis"
   ]
  },
  {
   "cell_type": "code",
   "execution_count": null,
   "metadata": {},
   "outputs": [],
   "source": [
    "ARwiki=pd.read_html(\"https://en.wikipedia.org/wiki/List_of_countries_by_alcohol_consumption_per_capita\", header=0, flavor='bs4', attrs={'class': 'wikitable'})# find name of web element via inspect for \"wikitable\""
   ]
  },
  {
   "attachments": {},
   "cell_type": "markdown",
   "metadata": {},
   "source": [
    "Again adding Life Satisfaction index data for analysis"
   ]
  },
  {
   "cell_type": "code",
   "execution_count": null,
   "metadata": {},
   "outputs": [],
   "source": [
    "SIwiki=pd.read_html(\"https://en.wikipedia.org/wiki/Satisfaction_with_Life_Index\", header=0, flavor='bs4', attrs={'class': 'wikitable'})# find name of web element via inspect for \"wikitable\""
   ]
  },
  {
   "attachments": {},
   "cell_type": "markdown",
   "metadata": {},
   "source": [
    "Adding Wealth Inequality data."
   ]
  },
  {
   "cell_type": "code",
   "execution_count": null,
   "metadata": {},
   "outputs": [],
   "source": [
    "WIwiki=pd.read_html(\"https://en.wikipedia.org/wiki/List_of_sovereign_states_by_wealth_inequality\", header=0, flavor='bs4', attrs={'class': 'wikitable'})# find name of web element via inspect for \"wikitable\""
   ]
  },
  {
   "attachments": {},
   "cell_type": "markdown",
   "metadata": {},
   "source": [
    "Adding Social Progress"
   ]
  },
  {
   "cell_type": "code",
   "execution_count": null,
   "metadata": {},
   "outputs": [],
   "source": [
    "SPwiki=pd.read_html(\"https://en.wikipedia.org/wiki/Social_Progress_Index\", header=0, flavor='bs4', attrs={'class': 'wikitable'})# find name of web element via inspect for \"wikitable\""
   ]
  },
  {
   "attachments": {},
   "cell_type": "markdown",
   "metadata": {},
   "source": [
    "Importing .csv from https://www.cia.gov/the-world-factbook/field/tobacco-use/country-comparison"
   ]
  },
  {
   "cell_type": "code",
   "execution_count": null,
   "metadata": {},
   "outputs": [],
   "source": [
    "TUtable=pd.read_csv(\"./CIATobaccoUse.csv\")\n",
    "# Check if imported correctly\n",
    "# TUtable"
   ]
  },
  {
   "attachments": {},
   "cell_type": "markdown",
   "metadata": {},
   "source": [
    "Adding data for Cocaine Usages"
   ]
  },
  {
   "cell_type": "code",
   "execution_count": null,
   "metadata": {},
   "outputs": [],
   "source": [
    "CUwiki=pd.read_html(\"https://en.wikipedia.org/wiki/List_of_countries_by_prevalence_of_cocaine_use\", header=0, flavor='bs4', attrs={'class': 'wikitable'})# find name of web element via inspect for \"wikitable\""
   ]
  },
  {
   "attachments": {},
   "cell_type": "markdown",
   "metadata": {},
   "source": [
    "Adding Urbanization Data"
   ]
  },
  {
   "cell_type": "code",
   "execution_count": null,
   "metadata": {},
   "outputs": [],
   "source": [
    "UDwiki=pd.read_html(\"https://en.wikipedia.org/wiki/Urbanization_by_sovereign_state\", header=0, flavor='bs4', attrs={'class': 'wikitable'})# find name of web element via inspect for \"wikitable\""
   ]
  },
  {
   "attachments": {},
   "cell_type": "markdown",
   "metadata": {},
   "source": [
    "Adding Population Density Data"
   ]
  },
  {
   "cell_type": "code",
   "execution_count": null,
   "metadata": {},
   "outputs": [],
   "source": [
    "PDwiki=pd.read_html(\"https://en.wikipedia.org/wiki/List_of_countries_by_real_population_density_based_on_food_growing_capacity\", header=0, flavor='bs4', attrs={'class': 'wikitable'})# find name of web element via inspect for \"wikitable\""
   ]
  },
  {
   "attachments": {},
   "cell_type": "markdown",
   "metadata": {},
   "source": [
    "Adding Life Expectancy Data"
   ]
  },
  {
   "cell_type": "code",
   "execution_count": null,
   "metadata": {},
   "outputs": [],
   "source": [
    "LEwiki=pd.read_html(\"https://en.wikipedia.org/wiki/List_of_countries_by_past_life_expectancy\", header=0, flavor='bs4', attrs={'class': 'wikitable'})# find name of web element via inspect for \"wikitable\""
   ]
  },
  {
   "cell_type": "markdown",
   "metadata": {},
   "source": [
    "_____\n",
    "\n",
    "\n",
    "<a id='cleaning'></a>\n",
    "## Cleaning"
   ]
  },
  {
   "cell_type": "code",
   "execution_count": null,
   "metadata": {},
   "outputs": [],
   "source": [
    "# Creat a copy and show only the 4th table on the page, all suicide rates\n",
    "SRwiki=MHwiki[3].copy()\n",
    "SRwiki"
   ]
  },
  {
   "cell_type": "markdown",
   "metadata": {},
   "source": [
    "Columns look fine. Table looks ok except for second row."
   ]
  },
  {
   "cell_type": "code",
   "execution_count": null,
   "metadata": {},
   "outputs": [],
   "source": [
    "# examine columns for errors\n",
    "SRwiki.columns.to_list()"
   ]
  },
  {
   "cell_type": "code",
   "execution_count": null,
   "metadata": {},
   "outputs": [],
   "source": [
    "# Dropping first row of NaN and saving\n",
    "SRwiki.drop(0, inplace=True)"
   ]
  },
  {
   "cell_type": "code",
   "execution_count": null,
   "metadata": {},
   "outputs": [],
   "source": [
    "# Check if first row was dropped\n",
    "SRwiki.reset_index()\n",
    "SRwiki"
   ]
  },
  {
   "cell_type": "code",
   "execution_count": null,
   "metadata": {},
   "outputs": [],
   "source": [
    "# replacing all asterisks and checking\n",
    "SRwiki.replace(\"[*]\", \"\", regex=True)\n",
    "SRwiki.replace(\"\\u202f\", \"\", regex=True)\n",
    "SRwiki"
   ]
  },
  {
   "cell_type": "code",
   "execution_count": null,
   "metadata": {},
   "outputs": [],
   "source": [
    "# replacing all asterisks and saving\n",
    "SRwiki.replace(\"[*]\", \"\", regex=True, inplace=True)\n",
    "SRwiki.replace(\"\\u202f\", \"\", regex=True, inplace=True)"
   ]
  },
  {
   "cell_type": "code",
   "execution_count": null,
   "metadata": {},
   "outputs": [],
   "source": [
    "# Ensuring no leading or trailing spaces\n",
    "SRwiki.Country.str.strip()"
   ]
  },
  {
   "cell_type": "code",
   "execution_count": null,
   "metadata": {},
   "outputs": [],
   "source": [
    "# Checking Country Names\n",
    "SRwiki.Country.to_list()"
   ]
  },
  {
   "cell_type": "code",
   "execution_count": null,
   "metadata": {},
   "outputs": [],
   "source": [
    "# replace special characters with standard\n",
    "SRwiki.replace(\"São Tomé and Príncipe\", \"Sao Tome and Principe\", inplace=True)"
   ]
  },
  {
   "cell_type": "code",
   "execution_count": null,
   "metadata": {},
   "outputs": [],
   "source": [
    "# Checking if correct data types\n",
    "SRwiki.info()"
   ]
  },
  {
   "cell_type": "markdown",
   "metadata": {},
   "source": [
    "Column names, rows, and table data types are correctly showing.\n",
    "* Countries have been cleaned of special characters and spaces.\n",
    "* Columns correctly show country and years.\n",
    "* Data types show country names as objects and Suicide rates as decimals."
   ]
  },
  {
   "cell_type": "markdown",
   "metadata": {},
   "source": [
    "Repeat cleaning and checking for Male Suicide Rate table."
   ]
  },
  {
   "cell_type": "code",
   "execution_count": null,
   "metadata": {},
   "outputs": [],
   "source": [
    "MSRwiki=MHwiki[1].copy() #saving Male Suicide rate table as MSRwiki\n",
    "MSRwiki"
   ]
  },
  {
   "cell_type": "code",
   "execution_count": null,
   "metadata": {},
   "outputs": [],
   "source": [
    "MSRwiki.columns.to_list() # check columns"
   ]
  },
  {
   "cell_type": "code",
   "execution_count": null,
   "metadata": {},
   "outputs": [],
   "source": [
    "# Dropping first row of NaN and saving\n",
    "MSRwiki.drop(0, inplace=True)"
   ]
  },
  {
   "cell_type": "code",
   "execution_count": null,
   "metadata": {},
   "outputs": [],
   "source": [
    "MSRwiki.reset_index() #reset index and check\n",
    "MSRwiki"
   ]
  },
  {
   "cell_type": "code",
   "execution_count": null,
   "metadata": {},
   "outputs": [],
   "source": [
    "# replacing all asterisks and saving\n",
    "MSRwiki.replace(\"[*]\", \"\", regex=True, inplace=True)\n",
    "MSRwiki.replace(\"\\u202f\", \"\", regex=True, inplace=True)"
   ]
  },
  {
   "cell_type": "code",
   "execution_count": null,
   "metadata": {},
   "outputs": [],
   "source": [
    "MSRwiki.Country.str.strip() #remove leading and trailing spaces"
   ]
  },
  {
   "cell_type": "code",
   "execution_count": null,
   "metadata": {},
   "outputs": [],
   "source": [
    "# Checking Country Names\n",
    "MSRwiki.Country.to_list()"
   ]
  },
  {
   "cell_type": "code",
   "execution_count": null,
   "metadata": {},
   "outputs": [],
   "source": [
    "# replace special characters with standard\n",
    "MSRwiki.replace(\"São Tomé and Príncipe\", \"Sao Tome and Principe\", inplace=True)"
   ]
  },
  {
   "cell_type": "code",
   "execution_count": null,
   "metadata": {},
   "outputs": [],
   "source": [
    "# Checking if correct data types\n",
    "MSRwiki.info()"
   ]
  },
  {
   "cell_type": "markdown",
   "metadata": {},
   "source": [
    "Repeat for Female Suicide Rates"
   ]
  },
  {
   "cell_type": "code",
   "execution_count": null,
   "metadata": {},
   "outputs": [],
   "source": [
    "# Create a copy of Female Suicide Rates as FSRwiki\n",
    "FSRwiki=MHwiki[2].copy()\n",
    "FSRwiki"
   ]
  },
  {
   "cell_type": "code",
   "execution_count": null,
   "metadata": {},
   "outputs": [],
   "source": [
    "FSRwiki.columns.to_list() # check columns"
   ]
  },
  {
   "cell_type": "code",
   "execution_count": null,
   "metadata": {},
   "outputs": [],
   "source": [
    "# Dropping first row of NaN and checking\n",
    "FSRwiki.drop(0)"
   ]
  },
  {
   "cell_type": "code",
   "execution_count": null,
   "metadata": {},
   "outputs": [],
   "source": [
    "# Saving Changes\n",
    "FSRwiki.drop(0, inplace=True)"
   ]
  },
  {
   "cell_type": "code",
   "execution_count": null,
   "metadata": {},
   "outputs": [],
   "source": [
    "FSRwiki.reset_index() #reset index and check\n",
    "FSRwiki"
   ]
  },
  {
   "cell_type": "code",
   "execution_count": null,
   "metadata": {},
   "outputs": [],
   "source": [
    "# replacing all asterisks and unicode spaces, with check\n",
    "FSRwiki.replace(\"[*]\", \"\", regex=True)\n",
    "FSRwiki.replace(\"\\u202f\", \"\", regex=True)\n",
    "FSRwiki"
   ]
  },
  {
   "cell_type": "code",
   "execution_count": null,
   "metadata": {},
   "outputs": [],
   "source": [
    "#Saving changes\n",
    "FSRwiki.replace(\"[*]\", \"\", regex=True, inplace=True)\n",
    "FSRwiki.replace(\"\\u202f\", \"\", regex=True, inplace=True)"
   ]
  },
  {
   "cell_type": "code",
   "execution_count": null,
   "metadata": {},
   "outputs": [],
   "source": [
    "FSRwiki.Country.str.strip() #remove leading and trailing spaces"
   ]
  },
  {
   "cell_type": "code",
   "execution_count": null,
   "metadata": {},
   "outputs": [],
   "source": [
    "# Checking Country Names\n",
    "FSRwiki.Country.to_list()"
   ]
  },
  {
   "cell_type": "code",
   "execution_count": null,
   "metadata": {},
   "outputs": [],
   "source": [
    "# replace special characters with standard\n",
    "FSRwiki.replace(\"São Tomé and Príncipe\", \"Sao Tome and Principe\", inplace=True)"
   ]
  },
  {
   "cell_type": "code",
   "execution_count": null,
   "metadata": {},
   "outputs": [],
   "source": [
    "# Checking if correct data types\n",
    "FSRwiki.info()"
   ]
  },
  {
   "cell_type": "code",
   "execution_count": null,
   "metadata": {},
   "outputs": [],
   "source": [
    "# Add Female suffix to Country Name\n",
    "#FSRwiki=FSRwiki.Country.add_suffix('_Female') # depricated method make a column instead\n",
    "\n",
    "#Make new column at position 2 to indicate Male, Female, or Both\n",
    "FSRwiki.insert(1,'Sex','Female')\n",
    "MSRwiki.insert(1,'Sex','Male')\n",
    "SRwiki.insert(1,'Sex','All')"
   ]
  },
  {
   "cell_type": "code",
   "execution_count": null,
   "metadata": {},
   "outputs": [],
   "source": [
    "#checking new column\n",
    "FSRwiki"
   ]
  },
  {
   "cell_type": "code",
   "execution_count": null,
   "metadata": {},
   "outputs": [],
   "source": [
    "# Checking new column\n",
    "MSRwiki"
   ]
  },
  {
   "cell_type": "code",
   "execution_count": null,
   "metadata": {},
   "outputs": [],
   "source": [
    "# Checking new column\n",
    "SRwiki"
   ]
  },
  {
   "cell_type": "markdown",
   "metadata": {},
   "source": [
    "Adding more data from second source for analysis"
   ]
  },
  {
   "cell_type": "code",
   "execution_count": null,
   "metadata": {},
   "outputs": [],
   "source": [
    "# Creat a copy and show only the 4th table on the page, all suicide rates\n",
    "Awiki=ARwiki[1].copy()\n",
    "Awiki"
   ]
  },
  {
   "cell_type": "code",
   "execution_count": null,
   "metadata": {},
   "outputs": [],
   "source": [
    "# examine columns for errors\n",
    "Awiki.columns.to_list()"
   ]
  },
  {
   "cell_type": "code",
   "execution_count": null,
   "metadata": {},
   "outputs": [],
   "source": [
    "# Take only relevant data of total alcohol consumend by country\n",
    "Awiki.drop(Awiki.columns[[2,3,4,5,6,7,8,9]], axis=1)"
   ]
  },
  {
   "cell_type": "code",
   "execution_count": null,
   "metadata": {},
   "outputs": [],
   "source": [
    "# Take only relevant data of total alcohol consumend by country and save\n",
    "Awiki.drop(Awiki.columns[[2,3,4,5,6,7,8,9]], axis=1, inplace=True)\n",
    "Awiki"
   ]
  },
  {
   "cell_type": "code",
   "execution_count": null,
   "metadata": {},
   "outputs": [],
   "source": [
    "#sort by Country name\n",
    "Awiki.sort_values(\"Country\")"
   ]
  },
  {
   "cell_type": "code",
   "execution_count": null,
   "metadata": {},
   "outputs": [],
   "source": [
    "#sort by Country name and save\n",
    "Awiki.sort_values(\"Country\", inplace=True)\n",
    "Awiki"
   ]
  },
  {
   "cell_type": "code",
   "execution_count": null,
   "metadata": {},
   "outputs": [],
   "source": [
    "#remove index\n",
    "Awiki.set_index(['Country', 'Total'])"
   ]
  },
  {
   "cell_type": "code",
   "execution_count": null,
   "metadata": {},
   "outputs": [],
   "source": [
    "#saving changes\n",
    "Awiki.set_index(['Country', 'Total'], inplace=True)\n",
    "Awiki"
   ]
  },
  {
   "cell_type": "code",
   "execution_count": null,
   "metadata": {},
   "outputs": [],
   "source": [
    "# Reset index\n",
    "Awiki.reset_index(inplace=True)\n",
    "Awiki"
   ]
  },
  {
   "cell_type": "markdown",
   "metadata": {},
   "source": [
    "_____\n",
    "\n",
    "\n",
    "<a id='shaping'></a>\n",
    "\n",
    "## Shaping\n",
    "\n",
    "Now we put all the data into the same table."
   ]
  },
  {
   "cell_type": "code",
   "execution_count": null,
   "metadata": {},
   "outputs": [],
   "source": [
    "# All data has been cleaned, formated, and checked. We merge tables\n",
    "# Check all column names are the same among tables\n",
    "set(SRwiki.columns)&set(MSRwiki)&set(FSRwiki)\n"
   ]
  },
  {
   "cell_type": "code",
   "execution_count": null,
   "metadata": {},
   "outputs": [],
   "source": [
    "ASRwiki=pd.concat([SRwiki,MSRwiki,FSRwiki]) #concatenate all tables\n",
    "ASRwiki #show concatenated table"
   ]
  },
  {
   "cell_type": "code",
   "execution_count": null,
   "metadata": {},
   "outputs": [],
   "source": [
    "# Reset index for concatenated table\n",
    "ASRwiki.reset_index() #reset index and check"
   ]
  },
  {
   "cell_type": "code",
   "execution_count": null,
   "metadata": {},
   "outputs": [],
   "source": [
    "# Save Changes\n",
    "ASRwiki=ASRwiki.reset_index() #reset index and check\n",
    "ASRwiki"
   ]
  },
  {
   "cell_type": "markdown",
   "metadata": {},
   "source": [
    "Merging with data on alcohol"
   ]
  },
  {
   "cell_type": "code",
   "execution_count": null,
   "metadata": {},
   "outputs": [],
   "source": [
    "SRwiki.Country.to_list()"
   ]
  },
  {
   "cell_type": "code",
   "execution_count": null,
   "metadata": {},
   "outputs": [],
   "source": [
    "#Checking Country lists\n",
    "Awiki.Country.to_list()"
   ]
  },
  {
   "cell_type": "markdown",
   "metadata": {},
   "source": [
    "_____\n",
    "\n",
    "\n",
    "<a id='exporting'></a>\n",
    "\n",
    "## Exporting\n",
    "Now that the data has been imported and cleaned, we export the data as .pkl so we can use it in Rstudio.\n"
   ]
  },
  {
   "cell_type": "code",
   "execution_count": null,
   "metadata": {},
   "outputs": [],
   "source": [
    "# Make sure rpy2 is installed\n",
    "!pip show rpy2\n",
    "# !pip install rpy2"
   ]
  },
  {
   "cell_type": "code",
   "execution_count": null,
   "metadata": {},
   "outputs": [],
   "source": [
    "# export SRwiki as SRwiki.pkl\n",
    "ASRwiki.to_pickle(\"ASRwiki.pkl\")\n",
    "print(\"Exported to pickle.\")"
   ]
  },
  {
   "cell_type": "code",
   "execution_count": null,
   "metadata": {},
   "outputs": [],
   "source": [
    "# export to ASRwiki as ASRwiki.csv\n",
    "ASRwiki.to_csv(\"ASRwiki.csv\")\n",
    "print(\"Exported to .csv\")"
   ]
  },
  {
   "cell_type": "code",
   "execution_count": null,
   "metadata": {},
   "outputs": [],
   "source": [
    "from rpy2.robjects import pandas2ri\n",
    "pandas2ri.activate()\n",
    "\n",
    "from rpy2.robjects.packages import importr\n",
    "\n",
    "base = importr('base')\n",
    "base.saveRDS(ASRwiki,file=\"ASRwiki.RDS\")\n",
    "print(\"Exported to .rds\")"
   ]
  }
 ],
 "metadata": {
  "kernelspec": {
   "display_name": "Python 3 (ipykernel)",
   "language": "python",
   "name": "python3"
  },
  "language_info": {
   "codemirror_mode": {
    "name": "ipython",
    "version": 3
   },
   "file_extension": ".py",
   "mimetype": "text/x-python",
   "name": "python",
   "nbconvert_exporter": "python",
   "pygments_lexer": "ipython3",
   "version": "3.10.9"
  },
  "vscode": {
   "interpreter": {
    "hash": "70d7df03c88bbbc1baccdb12cc8547b820746319ac6b0451b1fffee1b0ee2fd8"
   }
  }
 },
 "nbformat": 4,
 "nbformat_minor": 2
}
