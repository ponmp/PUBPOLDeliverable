{
 "cells": [
  {
   "cell_type": "markdown",
   "metadata": {},
   "source": [
    "## PUBPOL542 Deliverable Draft\n",
    "\n",
    "### Group Member: Matthew Pon\n",
    "### Organization: HedgehogsAnonymous\n",
    "* Github Repo: https://github.com/ponmp/PUBPOLDeliverableDraft \n",
    "* Organization Repo: https://github.com/HedgehogsAnonymous/PUBPOLDeliverable \n",
    "\n",
    "<a id='home'></a>\n",
    "_____\n"
   ]
  },
  {
   "attachments": {},
   "cell_type": "markdown",
   "metadata": {},
   "source": [
    "<a id='contents'></a>\n",
    "## Table of contents\n",
    "\n",
    "[1: Data](#data)\n",
    "\n",
    "[2: Cleaning](#cleaning)\n",
    "\n",
    "[2a: Suicide Rate](#suicide)\n",
    "\n",
    "[2b: Alcohol Consumption](#alcohol)\n",
    "\n",
    "[2c: Tobacco Use](#tobacco)\n",
    "\n",
    "[2d: Cocaine Use](#cocaine)\n",
    "\n",
    "[2e: Life Satisfaction](#satisfaction)\n",
    "\n",
    "[3: Shaping](#shaping)\n",
    "\n",
    "[4: Merging](#merging)\n",
    "\n",
    "[5: Exporting](#exporting)\n",
    "_____"
   ]
  },
  {
   "attachments": {},
   "cell_type": "markdown",
   "metadata": {},
   "source": [
    "<a id='data'></a>\n",
    "## Data\n",
    "Data table was found on Wikipedia's list of countries by suicide rates\n",
    "* Source: https://en.wikipedia.org/wiki/List_of_countries_by_suicide_rate\n",
    "\n",
    "[Back to table of contents](#contents)"
   ]
  },
  {
   "cell_type": "code",
   "execution_count": null,
   "metadata": {},
   "outputs": [],
   "source": [
    "from IPython.display import IFrame  # call IPython.display function's IFrame \n",
    "IFrame(\"https://en.wikipedia.org/wiki/List_of_countries_by_suicide_rate\", width=700, height=300) # IFrame wikipedia page with a resolution of 700px by 300px."
   ]
  },
  {
   "cell_type": "code",
   "execution_count": null,
   "metadata": {},
   "outputs": [],
   "source": [
    "# Make sure virtual environment is active\n",
    "# Run Jupyter Notebook Kernel\n",
    "\n",
    "# Make sure PANDAS is installed\n",
    "!pip show PANDAS\n",
    "# if not installed uncomment next line and run\n",
    "#!pip install pandas\n",
    "\n",
    "# Call PANDAS as PD\n",
    "import pandas as pd\n",
    "\n",
    "# Make sure HTML5lib is installed\n",
    "!pip show HTML5lib\n",
    "# if not installed uncomment next line and run\n",
    "#!pip install HTML5lib\n",
    "\n",
    "# Make sure thefuzz is installed\n",
    "!pip show thefuzz\n",
    "# if not installed uncomment next time and run\n",
    "#!pip install thefuzz\n",
    "\n",
    "# Call function and save as fz\n",
    "from thefuzz import process as fz"
   ]
  },
  {
   "cell_type": "markdown",
   "metadata": {},
   "source": [
    "Once opened you can view the data"
   ]
  },
  {
   "cell_type": "code",
   "execution_count": null,
   "metadata": {},
   "outputs": [],
   "source": [
    "MHwiki=pd.read_html(\"https://en.wikipedia.org/wiki/List_of_countries_by_suicide_rate\", header=0, flavor='bs4', attrs={'class': 'wikitable'})# find name of web element via inspect for \"wikitable\""
   ]
  },
  {
   "cell_type": "code",
   "execution_count": null,
   "metadata": {},
   "outputs": [],
   "source": [
    "# DFwiki returns all wikitables on the page but we are only concerned with historic suicide rates among both males and females\n",
    "MHwiki"
   ]
  },
  {
   "cell_type": "code",
   "execution_count": null,
   "metadata": {},
   "outputs": [],
   "source": [
    "from IPython.display import IFrame  # call IPython.display function's IFrame \n",
    "IFrame(\"https://en.wikipedia.org/wiki/List_of_countries_by_alcohol_consumption_per_capita\", width=700, height=300) # IFrame wikipedia page with a resolution of 700px by 300px."
   ]
  },
  {
   "attachments": {},
   "cell_type": "markdown",
   "metadata": {},
   "source": [
    "## Adding more for analysis"
   ]
  },
  {
   "attachments": {},
   "cell_type": "markdown",
   "metadata": {},
   "source": [
    "Alcohol consumption"
   ]
  },
  {
   "cell_type": "code",
   "execution_count": null,
   "metadata": {},
   "outputs": [],
   "source": [
    "ARwiki=pd.read_html(\"https://en.wikipedia.org/wiki/List_of_countries_by_alcohol_consumption_per_capita\", header=0, flavor='bs4', attrs={'class': 'wikitable'})# find name of web element via inspect for \"wikitable\""
   ]
  },
  {
   "attachments": {},
   "cell_type": "markdown",
   "metadata": {},
   "source": [
    "Life Satisfaction index"
   ]
  },
  {
   "cell_type": "code",
   "execution_count": null,
   "metadata": {},
   "outputs": [],
   "source": [
    "SIwiki=pd.read_html(\"https://en.wikipedia.org/wiki/Satisfaction_with_Life_Index\", header=0, flavor='bs4', attrs={'class': 'wikitable'})# find name of web element via inspect for \"wikitable\""
   ]
  },
  {
   "cell_type": "markdown",
   "metadata": {},
   "source": [
    "Adding Social Progress"
   ]
  },
  {
   "cell_type": "code",
   "execution_count": null,
   "metadata": {},
   "outputs": [],
   "source": [
    "SPwiki=pd.read_html(\"https://en.wikipedia.org/wiki/Social_Progress_Index\", header=0, flavor='bs4', attrs={'class': 'wikitable'})# find name of web element via inspect for \"wikitable\""
   ]
  },
  {
   "attachments": {},
   "cell_type": "markdown",
   "metadata": {},
   "source": [
    "Importing .csv retrieved from https://www.cia.gov/the-world-factbook/field/tobacco-use/country-comparison"
   ]
  },
  {
   "cell_type": "code",
   "execution_count": null,
   "metadata": {},
   "outputs": [],
   "source": [
    "TUtable=pd.read_csv(\"./CIATobaccoUse.csv\")\n",
    "# Check if imported correctly\n",
    "TUtable"
   ]
  },
  {
   "cell_type": "markdown",
   "metadata": {},
   "source": [
    "Adding data for Cocaine Usages"
   ]
  },
  {
   "cell_type": "code",
   "execution_count": null,
   "metadata": {},
   "outputs": [],
   "source": [
    "CUwiki=pd.read_html(\"https://en.wikipedia.org/wiki/List_of_countries_by_prevalence_of_cocaine_use\", header=0, flavor='bs4', attrs={'class': 'wikitable'})# find name of web element via inspect for \"wikitable\""
   ]
  },
  {
   "attachments": {},
   "cell_type": "markdown",
   "metadata": {},
   "source": [
    "_____\n",
    "<a id='cleaning'></a>\n",
    "## Cleaning\n",
    "\n",
    "[Back to table of contents](#contents)"
   ]
  },
  {
   "attachments": {},
   "cell_type": "markdown",
   "metadata": {},
   "source": [
    "<a id='suicide'></a>\n",
    "### Cleaning Suicide Rate Wikitable SRwiki"
   ]
  },
  {
   "cell_type": "code",
   "execution_count": null,
   "metadata": {},
   "outputs": [],
   "source": [
    "# Creat a copy as df and show only the 4th table on the page, all suicide rates\n",
    "SRwiki=MHwiki[3].copy()\n",
    "SRwiki"
   ]
  },
  {
   "cell_type": "markdown",
   "metadata": {},
   "source": [
    "Columns look fine. Table looks ok except for second row."
   ]
  },
  {
   "cell_type": "code",
   "execution_count": null,
   "metadata": {},
   "outputs": [],
   "source": [
    "# examine columns for errors\n",
    "SRwiki.columns.to_list()"
   ]
  },
  {
   "cell_type": "code",
   "execution_count": null,
   "metadata": {},
   "outputs": [],
   "source": [
    "# Dropping first row of NaN and saving\n",
    "SRwiki.drop(0, inplace=True)"
   ]
  },
  {
   "cell_type": "code",
   "execution_count": null,
   "metadata": {},
   "outputs": [],
   "source": [
    "# Check if first row was dropped\n",
    "SRwiki.reset_index()\n",
    "SRwiki"
   ]
  },
  {
   "cell_type": "code",
   "execution_count": null,
   "metadata": {},
   "outputs": [],
   "source": [
    "# replacing all asterisks and checking\n",
    "SRwiki.replace(\"[*]\", \"\", regex=True)\n",
    "SRwiki.replace(\"\\u202f\", \"\", regex=True)\n",
    "SRwiki"
   ]
  },
  {
   "cell_type": "code",
   "execution_count": null,
   "metadata": {},
   "outputs": [],
   "source": [
    "# replacing all asterisks and saving\n",
    "SRwiki.replace(\"[*]\", \"\", regex=True, inplace=True)\n",
    "SRwiki.replace(\"\\u202f\", \"\", regex=True, inplace=True)"
   ]
  },
  {
   "cell_type": "code",
   "execution_count": null,
   "metadata": {},
   "outputs": [],
   "source": [
    "# Ensuring no leading or trailing spaces\n",
    "SRwiki.Country.str.strip()"
   ]
  },
  {
   "cell_type": "code",
   "execution_count": null,
   "metadata": {},
   "outputs": [],
   "source": [
    "# Checking Country Names\n",
    "SRwiki.Country.to_list()"
   ]
  },
  {
   "cell_type": "code",
   "execution_count": null,
   "metadata": {},
   "outputs": [],
   "source": [
    "# replace special characters with standard\n",
    "SRwiki.replace(\"São Tomé and Príncipe\", \"Sao Tome and Principe\", inplace=True)"
   ]
  },
  {
   "cell_type": "code",
   "execution_count": null,
   "metadata": {},
   "outputs": [],
   "source": [
    "# Checking if correct data types\n",
    "SRwiki.info()"
   ]
  },
  {
   "cell_type": "markdown",
   "metadata": {},
   "source": [
    "Column names, rows, and table data types are correctly showing.\n",
    "* Countries have been cleaned of special characters and spaces.\n",
    "* Columns correctly show country and years.\n",
    "* Data types show country names as objects and Suicide rates as decimals."
   ]
  },
  {
   "attachments": {},
   "cell_type": "markdown",
   "metadata": {},
   "source": [
    "_____\n",
    "<a id='alcohol'></a>\n",
    "### Cleaning Alcohol Consumption Data Awiki\n",
    "\n",
    "[Back to table of contents](#contents)"
   ]
  },
  {
   "cell_type": "code",
   "execution_count": null,
   "metadata": {},
   "outputs": [],
   "source": [
    "# Creat a copy as df and show only the 2nd table on the page\n",
    "Awiki=ARwiki[1].copy()\n",
    "Awiki"
   ]
  },
  {
   "cell_type": "code",
   "execution_count": null,
   "metadata": {},
   "outputs": [],
   "source": [
    "# examine columns for errors\n",
    "Awiki.columns.to_list()"
   ]
  },
  {
   "cell_type": "code",
   "execution_count": null,
   "metadata": {},
   "outputs": [],
   "source": [
    "# Take only relevant data of total alcohol consumend by country\n",
    "Awiki.drop(Awiki.columns[[2,3,4,5,6,7,8,9]], axis=1)"
   ]
  },
  {
   "cell_type": "code",
   "execution_count": null,
   "metadata": {},
   "outputs": [],
   "source": [
    "# Take only relevant data of total alcohol consumend by country and save\n",
    "Awiki.drop(Awiki.columns[[2,3,4,5,6,7,8,9]], axis=1, inplace=True)\n",
    "Awiki"
   ]
  },
  {
   "cell_type": "code",
   "execution_count": null,
   "metadata": {},
   "outputs": [],
   "source": [
    "# sort by Country name\n",
    "Awiki.sort_values(\"Country\")"
   ]
  },
  {
   "cell_type": "code",
   "execution_count": null,
   "metadata": {},
   "outputs": [],
   "source": [
    "# sort by Country name and save\n",
    "Awiki.sort_values(\"Country\", inplace=True)\n",
    "Awiki"
   ]
  },
  {
   "cell_type": "code",
   "execution_count": null,
   "metadata": {},
   "outputs": [],
   "source": [
    "# remove index\n",
    "Awiki.set_index(['Country', 'Total'])"
   ]
  },
  {
   "cell_type": "code",
   "execution_count": null,
   "metadata": {},
   "outputs": [],
   "source": [
    "# saving changes\n",
    "Awiki.set_index(['Country', 'Total'], inplace=True)\n",
    "Awiki"
   ]
  },
  {
   "cell_type": "code",
   "execution_count": null,
   "metadata": {},
   "outputs": [],
   "source": [
    "# Reset index\n",
    "Awiki.reset_index(inplace=True)\n",
    "Awiki"
   ]
  },
  {
   "cell_type": "code",
   "execution_count": null,
   "metadata": {},
   "outputs": [],
   "source": [
    "# rename total to Alcohol\n",
    "# check\n",
    "#Awiki.rename({\"Total\": \"Alcohol\"}, axis=\"columns\")\n",
    "# implement\n",
    "Awiki.rename({\"Total\": \"Alcohol\"}, axis=\"columns\", inplace=True)\n",
    "Awiki"
   ]
  },
  {
   "attachments": {},
   "cell_type": "markdown",
   "metadata": {},
   "source": [
    "\n",
    "_____\n",
    "<a id='tobacco'></a>\n",
    "### Cleaning Tobacco Use TUtable\n",
    "\n",
    "[Back to table of contents](#contents)"
   ]
  },
  {
   "cell_type": "code",
   "execution_count": null,
   "metadata": {},
   "outputs": [],
   "source": [
    "# Sort by Country Name\n",
    "#TUtable.sort_values(\"name\") #checking work\n",
    "\n",
    "# implementing\n",
    "TUtable.sort_values(\"name\", inplace=True)\n",
    "TUtable"
   ]
  },
  {
   "cell_type": "code",
   "execution_count": null,
   "metadata": {},
   "outputs": [],
   "source": [
    "# Reset index\n",
    "# Check\n",
    "#TUtable.reset_index(drop=True)\n",
    "\n",
    "# implement\n",
    "TUtable.reset_index(drop=True, inplace=True)\n",
    "TUtable"
   ]
  },
  {
   "cell_type": "code",
   "execution_count": null,
   "metadata": {},
   "outputs": [],
   "source": [
    "# Dropping columns\n",
    "# check\n",
    "#TUtable.drop(TUtable.columns[[1,3,4,5]], axis=1)\n",
    "# implement\n",
    "TUtable.drop(TUtable.columns[[1,3,4,5]], axis=1, inplace=True)\n",
    "TUtable"
   ]
  },
  {
   "cell_type": "code",
   "execution_count": null,
   "metadata": {},
   "outputs": [],
   "source": [
    "# renaming name to Country and Value to Tobacco\n",
    "# check\n",
    "#TUtable.rename({\"name\": \"Country\",\"value\": \"Tobacco\"}, axis=\"columns\")\n",
    "# implement\n",
    "TUtable.rename({\"name\": \"Country\",\"value\": \"Tobacco\"}, axis=\"columns\", inplace=True)\n",
    "TUtable"
   ]
  },
  {
   "cell_type": "code",
   "execution_count": null,
   "metadata": {},
   "outputs": [],
   "source": [
    "# checking names\n",
    "TUtable.Country.to_list()"
   ]
  },
  {
   "attachments": {},
   "cell_type": "markdown",
   "metadata": {},
   "source": [
    "_____\n",
    "<a id='cocaine'></a>\n",
    "### Cleaning Cocaine Use Cwiki\n",
    "\n",
    "[Back to table of contents](#contents)"
   ]
  },
  {
   "cell_type": "code",
   "execution_count": null,
   "metadata": {},
   "outputs": [],
   "source": [
    "# saving as dataframe\n",
    "CUwiki\n",
    "Cwiki=CUwiki[0].copy()\n",
    "Cwiki"
   ]
  },
  {
   "cell_type": "code",
   "execution_count": null,
   "metadata": {},
   "outputs": [],
   "source": [
    "# rename columns\n",
    "# check\n",
    "#Cwiki.rename({\"Country or entity\": \"Country\", \"Annual prevalence (percent)\": \"Percent\"}, axis=\"columns\")\n",
    "# implement\n",
    "Cwiki.rename({\"Country or entity\": \"Country\", \"Annual prevalence (percent)\": \"Percent\"}, axis=\"columns\", inplace=True)\n",
    "Cwiki"
   ]
  },
  {
   "cell_type": "code",
   "execution_count": null,
   "metadata": {},
   "outputs": [],
   "source": [
    "# remove extra columns\n",
    "# check\n",
    "#Cwiki.drop(Cwiki.columns[[2,3]], axis=1)\n",
    "# implement\n",
    "Cwiki.drop(Cwiki.columns[[2,3]], axis=1, inplace=True)\n",
    "Cwiki"
   ]
  },
  {
   "cell_type": "code",
   "execution_count": null,
   "metadata": {},
   "outputs": [],
   "source": [
    "# Sort by Country Name\n",
    "# check\n",
    "#Cwiki.sort_values(\"name\")\n",
    "# implement\n",
    "Cwiki.sort_values(\"Country\", inplace=True)\n",
    "Cwiki"
   ]
  },
  {
   "cell_type": "code",
   "execution_count": null,
   "metadata": {},
   "outputs": [],
   "source": [
    "# Reset index\n",
    "# Check\n",
    "#Cwiki.reset_index(drop=True)\n",
    "# implement\n",
    "Cwiki.reset_index(drop=True, inplace=True)\n",
    "Cwiki"
   ]
  },
  {
   "cell_type": "code",
   "execution_count": null,
   "metadata": {},
   "outputs": [],
   "source": [
    "# Checking Names\n",
    "#Cwiki.Country.to_list()\n",
    "# replace special characters with standard\n",
    "Cwiki.replace(\"São Tomé and Príncipe\", \"Sao Tome and Principe\", inplace=True)\n",
    "Cwiki"
   ]
  },
  {
   "attachments": {},
   "cell_type": "markdown",
   "metadata": {},
   "source": [
    "_____\n",
    "<a id='satisfaction'></a>\n",
    "### Cleaning Life Satisfaction Index Swiki\n",
    "\n",
    "[Back to table of contents](#contents)"
   ]
  },
  {
   "cell_type": "code",
   "execution_count": null,
   "metadata": {},
   "outputs": [],
   "source": [
    "# saving as df and as two copies\n",
    "SIwiki\n",
    "S1wiki=SIwiki[0].copy()\n",
    "S2wiki=SIwiki[0].copy()"
   ]
  },
  {
   "cell_type": "code",
   "execution_count": null,
   "metadata": {},
   "outputs": [],
   "source": [
    "# dropping last columns\n",
    "#S1wiki.drop(S1wiki.columns[[3,4,5]], axis=1)\n",
    "# implement\n",
    "S1wiki.drop(S1wiki.columns[[3,4,5]], axis=1, inplace=True)\n",
    "S1wiki\n"
   ]
  },
  {
   "cell_type": "code",
   "execution_count": null,
   "metadata": {},
   "outputs": [],
   "source": [
    "# dropping first columns\n",
    "#S2wiki.drop(S2wiki.columns[[0,1,2]], axis=1)\n",
    "# implement\n",
    "S2wiki.drop(S2wiki.columns[[0,1,2]], axis=1, inplace=True)\n",
    "S2wiki"
   ]
  },
  {
   "cell_type": "code",
   "execution_count": null,
   "metadata": {},
   "outputs": [],
   "source": [
    "# rename S2wiki columns\n",
    "#S2wiki.rename({\"Rank.1\": \"Rank\", \"Country.1\": \"Country\", \"SWL.1\": \"SWL\"}, axis=\"columns\")\n",
    "# implement\n",
    "S2wiki.rename({\"Rank.1\": \"Rank\", \"Country.1\": \"Country\", \"SWL.1\": \"SWL\"}, axis=\"columns\", inplace=True)\n",
    "S2wiki"
   ]
  },
  {
   "cell_type": "code",
   "execution_count": null,
   "metadata": {},
   "outputs": [],
   "source": [
    "# checking if DFs have same column name\n",
    "set(S1wiki.columns)&set(S2wiki)"
   ]
  },
  {
   "cell_type": "code",
   "execution_count": null,
   "metadata": {},
   "outputs": [],
   "source": [
    "# concat df\n",
    "Swiki=pd.concat([S1wiki,S2wiki])\n",
    "Swiki"
   ]
  },
  {
   "cell_type": "code",
   "execution_count": null,
   "metadata": {},
   "outputs": [],
   "source": [
    "# drop rank column, sort by country, and reset index\n",
    "#Swiki.drop(Swiki.columns[[0]], axis=1)\n",
    "#Swiki.sort_values(\"Country\")\n",
    "#Swiki.reset_index(drop=True)\n",
    "# implement\n",
    "Swiki.drop(Swiki.columns[[0]], axis=1, inplace=True)\n",
    "Swiki.sort_values(\"Country\", inplace=True)\n",
    "Swiki.reset_index(drop=True,inplace=True)\n",
    "Swiki.rename({\"SWL\":\"Satisfaction\"}, axis=\"columns\", inplace=True)\n",
    "Swiki"
   ]
  },
  {
   "attachments": {},
   "cell_type": "markdown",
   "metadata": {},
   "source": [
    "_____\n",
    "<a id='progress'></a>\n",
    "\n",
    "### Cleaning Social Progress Pwiki\n",
    "\n",
    "[Back to table of contents](#contents)"
   ]
  },
  {
   "cell_type": "code",
   "execution_count": null,
   "metadata": {},
   "outputs": [],
   "source": [
    "# saving as df\n",
    "SPwiki\n",
    "Pwiki=SPwiki[0].copy()"
   ]
  },
  {
   "cell_type": "code",
   "execution_count": null,
   "metadata": {},
   "outputs": [],
   "source": [
    "# Dropping rank, sorting by country, and resetting index\n",
    "#Pwiki.drop(Pwiki.columns[[0]], axis=1)\n",
    "#Pwiki.sort_values(\"Country\")\n",
    "#Pwiki.reset_index(drop=True)\n",
    "# implement\n",
    "Pwiki.drop(Pwiki.columns[[0]], axis=1, inplace=True)\n",
    "Pwiki.sort_values(\"Country\", inplace=True)\n",
    "Pwiki.reset_index(drop=True, inplace=True)\n",
    "Pwiki"
   ]
  },
  {
   "attachments": {},
   "cell_type": "markdown",
   "metadata": {},
   "source": [
    "_____\n",
    "\n",
    "\n",
    "<a id='shaping'></a>\n",
    "\n",
    "## Shaping, Matching, and Combining\n",
    "\n",
    "Now we put all the data into the same table.\n",
    "\n",
    "[Back to table of contents](#contents)"
   ]
  },
  {
   "attachments": {},
   "cell_type": "markdown",
   "metadata": {},
   "source": [
    "Looking at the Jupyter variables Cocaine usage by country had the least observations. We will be comparing and dropping data to match this number. 110 countries. The largest df is 189 observations Awiki."
   ]
  },
  {
   "cell_type": "code",
   "execution_count": null,
   "metadata": {},
   "outputs": [],
   "source": [
    "# All data has been cleaned, formated, and checked. We merge tables\n",
    "# Check all column names are the same among tables\n",
    "DeltaSmall=set(Cwiki.Country)-set(Awiki.Country)\n",
    "DeltaLarge=set(Awiki.Country)-set(Cwiki.Country)\n",
    "DeltaSmall"
   ]
  },
  {
   "cell_type": "code",
   "execution_count": null,
   "metadata": {},
   "outputs": [],
   "source": [
    "# checking to see if mismatches can be saved.\n",
    "[(fz.extractOne(Cwiki, DeltaLarge),Cwiki) for Cwiki in sorted(DeltaSmall)] #shows all possible matches and strengths"
   ]
  },
  {
   "attachments": {},
   "cell_type": "markdown",
   "metadata": {},
   "source": [
    "### More Cleaning\n",
    "\n",
    "No possible matches from Cwiki \"Cocaine useage\" manually identifying England, Wales, Northern Ireland, and Scotland as the United Kingdom. https://en.wikipedia.org/wiki/United_Kingdom\n",
    "\n",
    "England population at time of observation = 55,619,000 @ 3.50% prevalence\n",
    "\n",
    "Wales population at observation = 3,125,000 @ 3.50% prevalence\n",
    "\n",
    "Northern Ireland population = 1,840,000 @ 1.8% prevalence\n",
    "\n",
    "Scotland = 5,347,000 @ 2.34% prevalence"
   ]
  },
  {
   "cell_type": "code",
   "execution_count": null,
   "metadata": {},
   "outputs": [],
   "source": [
    "# Counting total cases\n",
    "TotalCases = (55619000 * 0.035) + (3125000 * 0.035) + (1840000 * 0.018) + (5347000 * 0.0234)"
   ]
  },
  {
   "cell_type": "code",
   "execution_count": null,
   "metadata": {},
   "outputs": [],
   "source": [
    "# Sum all populations\n",
    "SumN = 55619000+3125000+1840000+5347000"
   ]
  },
  {
   "cell_type": "code",
   "execution_count": null,
   "metadata": {},
   "outputs": [],
   "source": [
    "# Calculating prevalence of Cocaine Usage in the UK and changing it to percentage\n",
    "CPrev = (TotalCases/SumN) * 100\n",
    "UKCPrev = round(CPrev, 2)\n",
    "UKCPrev"
   ]
  },
  {
   "cell_type": "code",
   "execution_count": null,
   "metadata": {},
   "outputs": [],
   "source": [
    "# Create list and Data frame for UK cocaine prevalence data\n",
    "UKCUsage = [['United Kingdom', UKCPrev]]\n",
    "UKdf = pd.DataFrame(UKCUsage, columns=['Country', 'Percent'])\n",
    "UKdf"
   ]
  },
  {
   "cell_type": "code",
   "execution_count": null,
   "metadata": {},
   "outputs": [],
   "source": [
    "# Concat with exisiting table and dropping original observations\n",
    "#pd.concat([Cwiki,UKdf])\n",
    "#Cindex = Cwiki.set_index(\"Country\")\n",
    "#Cindex.drop(['England and Wales', 'Northern Ireland', 'Scotland'])\n",
    "# Verify that 3 rows were dropped 110-107=3\n",
    "# Implement and Create new DF\n",
    "Cwiki2 = pd.concat([Cwiki,UKdf])\n",
    "Cindex = Cwiki2.set_index(\"Country\")\n",
    "CwikiAll = Cindex.drop(['England and Wales', 'Northern Ireland', 'Scotland'])\n",
    "CwikiAll"
   ]
  },
  {
   "cell_type": "code",
   "execution_count": null,
   "metadata": {},
   "outputs": [],
   "source": [
    "# Fix CwikiAll\n",
    "CwikiAll.sort_values(\"Country\", inplace=True)\n",
    "CwikiAll.reset_index( inplace=True)\n",
    "CwikiAll"
   ]
  },
  {
   "cell_type": "code",
   "execution_count": null,
   "metadata": {},
   "outputs": [],
   "source": [
    "# Creating new list and dropping rows\n",
    "CList=set(CwikiAll.Country)-set(Awiki.Country)\n",
    "#CList\n",
    "CList = list(CList) #change set to list\n",
    "CwikiAll = CwikiAll.set_index(\"Country\") # set index to country name\n",
    "#CwikiAll\n",
    "CwikiF = CwikiAll.drop(CList) #dropping mismatch\n",
    "CwikiF.reset_index(inplace=True) #reset index\n",
    "CwikiF\n",
    "# Sanity check 110 original - 3 combined - 8  unmatched + 1 calculated = 100 observations"
   ]
  },
  {
   "cell_type": "code",
   "execution_count": null,
   "metadata": {},
   "outputs": [],
   "source": [
    "DeltaSmall = set(CwikiF.Country)-set(Pwiki.Country)\n",
    "DeltaLarge = set(Pwiki.Country)-set(CwikiF.Country)\n",
    "[(fz.extractOne(CwikiF, DeltaLarge),CwikiF) for CwikiF in sorted(DeltaSmall)] #shows all possible matches and strengths"
   ]
  },
  {
   "cell_type": "code",
   "execution_count": null,
   "metadata": {},
   "outputs": [],
   "source": [
    "Pwiki.replace(\"Cabo Verde\", \"Cape Verde\", inplace=True)\n",
    "Pwiki.replace(\"Republic of North Macedonia\", \"North Macedonia\", inplace=True)\n",
    "Pwiki.replace(\"Korea. Republic of\", \"South Korea\", inplace=True)\n",
    "DeltaSmall = set(CwikiF.Country)-set(Pwiki.Country)\n",
    "DeltaLarge = set(Pwiki.Country)-set(CwikiF.Country)\n",
    "[(fz.extractOne(CwikiF, DeltaLarge),CwikiF) for CwikiF in sorted(DeltaSmall)] #shows all possible matches and strengths"
   ]
  },
  {
   "cell_type": "code",
   "execution_count": null,
   "metadata": {},
   "outputs": [],
   "source": [
    "DeltaSmall=list(DeltaSmall)\n",
    "Cindex = CwikiF.set_index(\"Country\")\n",
    "CwikiF = Cindex.drop(DeltaSmall)\n",
    "CwikiF.reset_index(inplace=True)\n",
    "CwikiF"
   ]
  },
  {
   "attachments": {},
   "cell_type": "markdown",
   "metadata": {},
   "source": [
    "Checking other df"
   ]
  },
  {
   "cell_type": "code",
   "execution_count": null,
   "metadata": {},
   "outputs": [],
   "source": [
    "# against suicide rates\n",
    "DeltaSmall = set(CwikiF.Country)-set(SRwiki.Country)\n",
    "DeltaLarge = set(SRwiki.Country)-set(CwikiF.Country)\n",
    "[(fz.extractOne(CwikiF, DeltaLarge),CwikiF) for CwikiF in sorted(DeltaSmall)] #shows all possible matches and strengths"
   ]
  },
  {
   "cell_type": "code",
   "execution_count": null,
   "metadata": {},
   "outputs": [],
   "source": [
    "# against life satisfaction\n",
    "DeltaSmall = set(CwikiF.Country)-set(Swiki.Country)\n",
    "DeltaLarge = set(Swiki.Country)-set(CwikiF.Country)\n",
    "[(fz.extractOne(CwikiF, DeltaLarge),CwikiF) for CwikiF in sorted(DeltaSmall)] #shows all possible matches and strengths"
   ]
  },
  {
   "cell_type": "code",
   "execution_count": null,
   "metadata": {},
   "outputs": [],
   "source": [
    "# Replace names and check\n",
    "Swiki.replace(\"Macedonia\", \"North Macedonia\", inplace=True)\n",
    "DeltaSmall = set(CwikiF.Country)-set(Swiki.Country)\n",
    "DeltaLarge = set(Swiki.Country)-set(CwikiF.Country)\n",
    "[(fz.extractOne(CwikiF, DeltaLarge),CwikiF) for CwikiF in sorted(DeltaSmall)] #shows all possible matches and strengths"
   ]
  },
  {
   "cell_type": "code",
   "execution_count": null,
   "metadata": {},
   "outputs": [],
   "source": [
    "# Removing empties\n",
    "DeltaSmall\n",
    "DeltaSmall=list(DeltaSmall)\n",
    "Cindex = CwikiF.set_index(\"Country\")\n",
    "CwikiF = Cindex.drop(DeltaSmall)\n",
    "CwikiF.reset_index(inplace=True)\n",
    "CwikiF"
   ]
  },
  {
   "cell_type": "code",
   "execution_count": null,
   "metadata": {},
   "outputs": [],
   "source": [
    "# against Social Progress\n",
    "#DeltaSmall = set(CwikiF.Country)-set(Pwiki.Country)\n",
    "#DeltaLarge = set(Pwiki.Country)-set(CwikiF.Country)\n",
    "#[(fz.extractOne(CwikiF, DeltaLarge),CwikiF) for CwikiF in sorted(DeltaSmall)] \n",
    "Pwiki.replace(\"Korea. Republic of\", \"South Korea\", inplace=True)\n",
    "DeltaSmall = set(CwikiF.Country)-set(Pwiki.Country)\n",
    "DeltaLarge = set(Pwiki.Country)-set(CwikiF.Country)\n",
    "[(fz.extractOne(CwikiF, DeltaLarge),CwikiF) for CwikiF in sorted(DeltaSmall)] #shows all possible matches and strengths"
   ]
  },
  {
   "cell_type": "code",
   "execution_count": null,
   "metadata": {},
   "outputs": [],
   "source": [
    "# against suicide rate\n",
    "DeltaSmall = set(CwikiF.Country)-set(SRwiki.Country)\n",
    "DeltaLarge = set(SRwiki.Country)-set(CwikiF.Country)\n",
    "[(fz.extractOne(CwikiF, DeltaLarge),CwikiF) for CwikiF in sorted(DeltaSmall)] #shows all possible matches and strengths"
   ]
  },
  {
   "cell_type": "code",
   "execution_count": null,
   "metadata": {},
   "outputs": [],
   "source": [
    "# against Tobacco\n",
    "DeltaSmall = set(CwikiF.Country)-set(TUtable.Country)\n",
    "DeltaLarge = set(TUtable.Country)-set(CwikiF.Country)\n",
    "[(fz.extractOne(CwikiF, DeltaLarge),CwikiF) for CwikiF in sorted(DeltaSmall)] #shows all possible matches and strengths"
   ]
  },
  {
   "cell_type": "code",
   "execution_count": null,
   "metadata": {},
   "outputs": [],
   "source": [
    "TUtable.replace(\"Korea, South\", \"South Korea\", inplace=True)\n",
    "TUtable.replace(\"Turkey (Turkiye)\", \"Turkey\", inplace=True)\n",
    "TUtable.replace(\"Cabo Verde\", \"Cape Verde\", inplace=True)\n",
    "DeltaSmall = set(CwikiF.Country)-set(TUtable.Country)\n",
    "DeltaLarge = set(TUtable.Country)-set(CwikiF.Country)\n",
    "[(fz.extractOne(CwikiF, DeltaLarge),CwikiF) for CwikiF in sorted(DeltaSmall)] #shows all possible matches and strengths"
   ]
  },
  {
   "cell_type": "code",
   "execution_count": null,
   "metadata": {},
   "outputs": [],
   "source": [
    "DeltaSmall\n",
    "DeltaSmall=list(DeltaSmall)\n",
    "Cindex = CwikiF.set_index(\"Country\")\n",
    "CwikiF = Cindex.drop(DeltaSmall)\n",
    "CwikiF.reset_index(inplace=True)\n",
    "CwikiF"
   ]
  },
  {
   "cell_type": "code",
   "execution_count": null,
   "metadata": {},
   "outputs": [],
   "source": [
    "#against Alcohol\n",
    "DeltaSmall = set(CwikiF.Country)-set(Awiki.Country)\n",
    "DeltaLarge = set(Awiki.Country)-set(CwikiF.Country)\n",
    "[(fz.extractOne(CwikiF, DeltaLarge),CwikiF) for CwikiF in sorted(DeltaSmall)] #shows all possible matches and strengths"
   ]
  },
  {
   "attachments": {},
   "cell_type": "markdown",
   "metadata": {},
   "source": [
    "### Using this master list we compare and drop mismatches from other df."
   ]
  },
  {
   "cell_type": "code",
   "execution_count": null,
   "metadata": {},
   "outputs": [],
   "source": [
    "# Suicide rate\n",
    "DeltaLarge=set(SRwiki.Country)-set(CwikiF.Country)\n",
    "DeltaLarge=list(DeltaLarge)\n",
    "Cindex = SRwiki.set_index(\"Country\")\n",
    "SRwikiF = Cindex.drop(DeltaLarge)\n",
    "SRwikiF.reset_index(inplace=True)\n",
    "\n",
    "# Alcohol\n",
    "DeltaLarge=set(Awiki.Country)-set(CwikiF.Country)\n",
    "DeltaLarge=list(DeltaLarge)\n",
    "Cindex = Awiki.set_index(\"Country\")\n",
    "AwikiF = Cindex.drop(DeltaLarge)\n",
    "AwikiF.reset_index(inplace=True)\n",
    "\n",
    "# Tobacco\n",
    "DeltaLarge=set(TUtable.Country)-set(CwikiF.Country)\n",
    "DeltaLarge=list(DeltaLarge)\n",
    "Cindex = TUtable.set_index(\"Country\")\n",
    "TUtableF = Cindex.drop(DeltaLarge)\n",
    "TUtableF.reset_index(inplace=True)\n",
    "\n",
    "# Satisfaction\n",
    "DeltaLarge=set(Swiki.Country)-set(CwikiF.Country)\n",
    "DeltaLarge=list(DeltaLarge)\n",
    "Cindex = Swiki.set_index(\"Country\")\n",
    "SwikiF = Cindex.drop(DeltaLarge)\n",
    "SwikiF.reset_index(inplace=True)\n",
    "\n",
    "# Progress\n",
    "DeltaLarge=set(Pwiki.Country)-set(CwikiF.Country)\n",
    "DeltaLarge=list(DeltaLarge)\n",
    "Cindex = Pwiki.set_index(\"Country\")\n",
    "PwikiF = Cindex.drop(DeltaLarge)\n",
    "PwikiF.reset_index(inplace=True)"
   ]
  },
  {
   "cell_type": "code",
   "execution_count": null,
   "metadata": {},
   "outputs": [],
   "source": [
    "SRwikiF.set_index(\"Country\", inplace=True)\n",
    "SRwikiF"
   ]
  },
  {
   "cell_type": "code",
   "execution_count": null,
   "metadata": {},
   "outputs": [],
   "source": [
    "#AwikiF.set_index(\"Country\", inplace=True)\n",
    "#AwikiF\n",
    "Alcohol = AwikiF.Alcohol.to_list()\n",
    "Alcohol"
   ]
  },
  {
   "cell_type": "code",
   "execution_count": null,
   "metadata": {},
   "outputs": [],
   "source": [
    "#TUtableF.set_index(\"Country\", inplace=True)\n",
    "#TUtableF\n",
    "Tobacco = TUtableF.Tobacco.to_list()\n",
    "Tobacco"
   ]
  },
  {
   "cell_type": "code",
   "execution_count": null,
   "metadata": {},
   "outputs": [],
   "source": [
    "#SwikiF.set_index(\"Country\", inplace=True)\n",
    "#SwikiF\n",
    "Satisfaction = SwikiF.Satisfaction.to_list()\n",
    "Satisfaction"
   ]
  },
  {
   "attachments": {},
   "cell_type": "markdown",
   "metadata": {},
   "source": [
    "<a id='merging'></a>\n",
    "\n",
    "### Merging\n",
    "\n",
    "[Back to table of contents](#contents)"
   ]
  },
  {
   "cell_type": "code",
   "execution_count": null,
   "metadata": {},
   "outputs": [],
   "source": [
    "#MasterTable\n",
    "SRwikiF['Alcohol'] = Alcohol\n",
    "SRwikiF['Tobacco'] = Tobacco\n",
    "SRwikiF['Satisfaction'] = Satisfaction\n",
    "WorkingTable = SRwikiF\n",
    "WorkingTable.reset_index(inplace=True)\n",
    "WorkingTable"
   ]
  },
  {
   "cell_type": "code",
   "execution_count": null,
   "metadata": {},
   "outputs": [],
   "source": [
    "#WorkingTable.merge(PwikiF)\n",
    "MasterTable = WorkingTable.merge(PwikiF)\n"
   ]
  },
  {
   "cell_type": "code",
   "execution_count": null,
   "metadata": {},
   "outputs": [],
   "source": [
    "MasterTable"
   ]
  },
  {
   "attachments": {},
   "cell_type": "markdown",
   "metadata": {},
   "source": [
    "_____\n",
    "\n",
    "\n",
    "<a id='exporting'></a>\n",
    "\n",
    "## Exporting\n",
    "Now that the data has been imported and cleaned, we export the data as .pkl so we can use it in Rstudio.\n",
    "\n",
    "[Back to table of contents](#contents)\n"
   ]
  },
  {
   "cell_type": "code",
   "execution_count": null,
   "metadata": {},
   "outputs": [],
   "source": [
    "# Make sure rpy2 is installed\n",
    "!pip show rpy2\n",
    "# if not installed uncomment the next line and run\n",
    "# !pip install rpy2"
   ]
  },
  {
   "cell_type": "code",
   "execution_count": null,
   "metadata": {},
   "outputs": [],
   "source": [
    "# export SRwiki as SRwiki.pkl\n",
    "MasterTable.to_pickle(\"MasterTable.pkl\")\n",
    "print(\"Exported to pickle.\")"
   ]
  },
  {
   "cell_type": "code",
   "execution_count": null,
   "metadata": {},
   "outputs": [],
   "source": [
    "# export to ASRwiki as ASRwiki.csv\n",
    "MasterTable.to_csv(\"MasterTable.csv\")\n",
    "print(\"Exported to .csv\")"
   ]
  },
  {
   "cell_type": "code",
   "execution_count": null,
   "metadata": {},
   "outputs": [],
   "source": [
    "from rpy2.robjects import pandas2ri\n",
    "pandas2ri.activate()\n",
    "\n",
    "from rpy2.robjects.packages import importr\n",
    "\n",
    "base = importr('base')\n",
    "base.saveRDS(MasterTable,file=\"MasterTable.RDS\")\n",
    "print(\"Exported to .rds\")"
   ]
  }
 ],
 "metadata": {
  "kernelspec": {
   "display_name": "Python 3 (ipykernel)",
   "language": "python",
   "name": "python3"
  },
  "language_info": {
   "codemirror_mode": {
    "name": "ipython",
    "version": 3
   },
   "file_extension": ".py",
   "mimetype": "text/x-python",
   "name": "python",
   "nbconvert_exporter": "python",
   "pygments_lexer": "ipython3",
   "version": "3.10.9"
  },
  "vscode": {
   "interpreter": {
    "hash": "70d7df03c88bbbc1baccdb12cc8547b820746319ac6b0451b1fffee1b0ee2fd8"
   }
  }
 },
 "nbformat": 4,
 "nbformat_minor": 2
}
