{
 "cells": [
  {
   "cell_type": "markdown",
   "metadata": {},
   "source": [
    "## PUBPOL542 Deliverable Draft\n",
    "\n",
    "### Group Member: Matthew Pon\n",
    "### Organization: HedgehogsAnonymous\n",
    "* Github Repo: https://github.com/ponmp/PUBPOLDeliverableDraft \n",
    "* Organization Repo: https://github.com/HedgehogsAnonymous/PUBPOLDeliverable \n",
    "\n",
    "<a id='home'></a>\n",
    "_____\n"
   ]
  },
  {
   "attachments": {},
   "cell_type": "markdown",
   "metadata": {},
   "source": [
    "## Table of contents\n",
    "[1: Data](#data)\n",
    "\n",
    "[2: Cleaning](#cleaning)\n",
    "\n",
    "_____"
   ]
  },
  {
   "attachments": {},
   "cell_type": "markdown",
   "metadata": {},
   "source": [
    "<a id='data'></a>\n",
    "## Data\n",
    "Data table was found on Wikipedia's list of countries by suicide rates\n",
    "* Source: https://en.wikipedia.org/wiki/List_of_countries_by_suicide_rate"
   ]
  },
  {
   "cell_type": "code",
   "execution_count": null,
   "metadata": {},
   "outputs": [],
   "source": [
    "from IPython.display import IFrame  # call IPython.display function's IFrame \n",
    "IFrame(\"https://en.wikipedia.org/wiki/List_of_countries_by_suicide_rate\", width=700, height=300) # IFrame wikipedia page with a resolution of 700px by 300px."
   ]
  },
  {
   "cell_type": "code",
   "execution_count": 1,
   "metadata": {},
   "outputs": [
    {
     "name": "stdout",
     "output_type": "stream",
     "text": [
      "Name: pandas\n",
      "Version: 1.5.2\n",
      "Summary: Powerful data structures for data analysis, time series, and statistics\n",
      "Home-page: https://pandas.pydata.org\n",
      "Author: The Pandas Development Team\n",
      "Author-email: pandas-dev@python.org\n",
      "License: BSD-3-Clause\n",
      "Location: c:\\users\\hedgehog\\appdata\\roaming\\python\\python310\\site-packages\n",
      "Requires: numpy, python-dateutil, pytz\n",
      "Required-by: altair, gradio\n",
      "Name: html5lib\n",
      "Version: 1.1\n",
      "Summary: HTML parser based on the WHATWG HTML specification\n",
      "Home-page: https://github.com/html5lib/html5lib-python\n",
      "Author: \n",
      "Author-email: \n",
      "License: MIT License\n",
      "Location: c:\\users\\hedgehog\\appdata\\local\\programs\\python\\python310\\lib\\site-packages\n",
      "Requires: six, webencodings\n",
      "Required-by: \n"
     ]
    }
   ],
   "source": [
    "# Make sure PUBPOL environment is active\n",
    "# Run Jupyter Notebook Kernel\n",
    "\n",
    "# Make sure PANDAS is installed\n",
    "!pip show PANDAS\n",
    "# if not installed uncomment next line and run\n",
    "#!pip install pandas\n",
    "\n",
    "# Call PANDAS as PD\n",
    "import pandas as pd\n",
    "\n",
    "# Make sure HTML5lib is installed\n",
    "!pip show HTML5lib\n",
    "# if not installed uncomment next line and run\n",
    "#!pip install HTML5lib\n"
   ]
  },
  {
   "attachments": {},
   "cell_type": "markdown",
   "metadata": {},
   "source": [
    "Once opened you can view the data"
   ]
  },
  {
   "cell_type": "code",
   "execution_count": null,
   "metadata": {},
   "outputs": [],
   "source": [
    "MHwiki=pd.read_html(\"https://en.wikipedia.org/wiki/List_of_countries_by_suicide_rate\", header=0, flavor='bs4', attrs={'class': 'wikitable'})# find name of web element via inspect for \"wikitable\""
   ]
  },
  {
   "cell_type": "code",
   "execution_count": null,
   "metadata": {},
   "outputs": [],
   "source": [
    "# DFwiki returns all wikitables on the page but we are only concerned with historic suicide rates among both males and females\n",
    "MHwiki"
   ]
  },
  {
   "attachments": {},
   "cell_type": "markdown",
   "metadata": {},
   "source": [
    "_____\n",
    "\n",
    "\n",
    "<a id='cleaning'></a>\n",
    "## Cleaning"
   ]
  },
  {
   "cell_type": "code",
   "execution_count": null,
   "metadata": {},
   "outputs": [],
   "source": [
    "# Creat a copy and show only the 4th table on the page, all suicide rates\n",
    "SRwiki=MHwiki[3].copy()\n",
    "SRwiki"
   ]
  },
  {
   "attachments": {},
   "cell_type": "markdown",
   "metadata": {},
   "source": [
    "Columns look fine. Table looks ok except for second row."
   ]
  },
  {
   "cell_type": "code",
   "execution_count": null,
   "metadata": {},
   "outputs": [],
   "source": [
    "SRwiki.columns.to_list()"
   ]
  },
  {
   "cell_type": "code",
   "execution_count": null,
   "metadata": {},
   "outputs": [],
   "source": [
    "# Dropping first row of NaN and saving\n",
    "SRwiki.drop(0, inplace=True)"
   ]
  },
  {
   "cell_type": "code",
   "execution_count": null,
   "metadata": {},
   "outputs": [],
   "source": [
    "# Check if first row was dropped\n",
    "SRwiki.reset_index()\n",
    "SRwiki"
   ]
  },
  {
   "cell_type": "code",
   "execution_count": null,
   "metadata": {},
   "outputs": [],
   "source": [
    "# replacing all asterisks and saving\n",
    "SRwiki.replace(\"[*]\", \"\", regex=True, inplace=True)\n",
    "SRwiki.replace(\"\\u202f\", \"\", regex=True, inplace=True)"
   ]
  },
  {
   "cell_type": "code",
   "execution_count": null,
   "metadata": {},
   "outputs": [],
   "source": [
    "# Ensuring no leading or trailing spaces\n",
    "SRwiki.Country.str.strip()"
   ]
  },
  {
   "cell_type": "code",
   "execution_count": null,
   "metadata": {},
   "outputs": [],
   "source": [
    "# Checking Country Names\n",
    "SRwiki.Country.to_list()"
   ]
  },
  {
   "cell_type": "code",
   "execution_count": null,
   "metadata": {},
   "outputs": [],
   "source": [
    "# Checking if correct data types\n",
    "SRwiki.info()"
   ]
  },
  {
   "attachments": {},
   "cell_type": "markdown",
   "metadata": {},
   "source": [
    "Column names, rows, and table data types are correctly showing.\n",
    "* Countries have been cleaned of special characters and spaces.\n",
    "* Columns correctly show country and years.\n",
    "* Data types show country names as objects and Suicide rates as decimals.\n",
    "\n",
    "_____"
   ]
  },
  {
   "attachments": {},
   "cell_type": "markdown",
   "metadata": {},
   "source": [
    "## Exporting\n",
    "Now that the data has been imported and cleaned, we export the data as .pkl so we can use it in Rstudio.\n"
   ]
  },
  {
   "cell_type": "code",
   "execution_count": null,
   "metadata": {},
   "outputs": [],
   "source": [
    "# export SRwiki as SRwiki.pkl\n",
    "SRwiki.to_pickle(\"WorldSuicideRates.pkl\")\n",
    "print(\"Exported to pickle.\")"
   ]
  }
 ],
 "metadata": {
  "kernelspec": {
   "display_name": "Python 3 (ipykernel)",
   "language": "python",
   "name": "python3"
  },
  "language_info": {
   "codemirror_mode": {
    "name": "ipython",
    "version": 3
   },
   "file_extension": ".py",
   "mimetype": "text/x-python",
   "name": "python",
   "nbconvert_exporter": "python",
   "pygments_lexer": "ipython3",
   "version": "3.8.16"
  },
  "vscode": {
   "interpreter": {
    "hash": "e8ba26a7f3d041ffe894e5af0748883ec6d9922ace694d57d241f342ffec543b"
   }
  }
 },
 "nbformat": 4,
 "nbformat_minor": 2
}
